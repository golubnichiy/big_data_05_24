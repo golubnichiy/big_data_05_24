{
 "cells": [
  {
   "cell_type": "markdown",
   "metadata": {},
   "source": [
    "## Анализ набора данных с использованием `pandas`"
   ]
  },
  {
   "cell_type": "markdown",
   "metadata": {},
   "source": [
    "### Загрузка данных и первичный обзор"
   ]
  },
  {
   "cell_type": "markdown",
   "metadata": {},
   "source": [
    "В этом задании мы будем работать с набором данных `gapminder`, который содержит информацию о различных странах и их показателях развития. Мы будем использовать библиотеку Pandas для базового анализа данных."
   ]
  },
  {
   "cell_type": "code",
   "execution_count": 5,
   "metadata": {},
   "outputs": [],
   "source": [
    "import pandas as pd\n",
    "gapminder_data = pd.read_csv('gapminder.csv')"
   ]
  },
  {
   "cell_type": "markdown",
   "metadata": {},
   "source": [
    "Выведите информацию о первых 10 записях набора данных: "
   ]
  },
  {
   "cell_type": "code",
   "execution_count": 6,
   "metadata": {},
   "outputs": [
    {
     "data": {
      "text/html": [
       "<div>\n",
       "<style scoped>\n",
       "    .dataframe tbody tr th:only-of-type {\n",
       "        vertical-align: middle;\n",
       "    }\n",
       "\n",
       "    .dataframe tbody tr th {\n",
       "        vertical-align: top;\n",
       "    }\n",
       "\n",
       "    .dataframe thead th {\n",
       "        text-align: right;\n",
       "    }\n",
       "</style>\n",
       "<table border=\"1\" class=\"dataframe\">\n",
       "  <thead>\n",
       "    <tr style=\"text-align: right;\">\n",
       "      <th></th>\n",
       "      <th>country</th>\n",
       "      <th>region</th>\n",
       "      <th>income</th>\n",
       "      <th>income_level</th>\n",
       "      <th>life_exp</th>\n",
       "      <th>co2</th>\n",
       "      <th>co2_change</th>\n",
       "      <th>population</th>\n",
       "    </tr>\n",
       "  </thead>\n",
       "  <tbody>\n",
       "    <tr>\n",
       "      <th>0</th>\n",
       "      <td>Afghanistan</td>\n",
       "      <td>Asia</td>\n",
       "      <td>2.03</td>\n",
       "      <td>Level 1</td>\n",
       "      <td>62.7</td>\n",
       "      <td>0.254</td>\n",
       "      <td>increase</td>\n",
       "      <td>37.2000</td>\n",
       "    </tr>\n",
       "    <tr>\n",
       "      <th>1</th>\n",
       "      <td>Albania</td>\n",
       "      <td>Europe</td>\n",
       "      <td>13.30</td>\n",
       "      <td>Level 3</td>\n",
       "      <td>78.4</td>\n",
       "      <td>1.590</td>\n",
       "      <td>increase</td>\n",
       "      <td>2.8800</td>\n",
       "    </tr>\n",
       "    <tr>\n",
       "      <th>2</th>\n",
       "      <td>Algeria</td>\n",
       "      <td>Africa</td>\n",
       "      <td>11.60</td>\n",
       "      <td>Level 3</td>\n",
       "      <td>76.0</td>\n",
       "      <td>3.690</td>\n",
       "      <td>increase</td>\n",
       "      <td>42.2000</td>\n",
       "    </tr>\n",
       "    <tr>\n",
       "      <th>3</th>\n",
       "      <td>Andorra</td>\n",
       "      <td>Europe</td>\n",
       "      <td>58.30</td>\n",
       "      <td>Level 4</td>\n",
       "      <td>82.1</td>\n",
       "      <td>6.120</td>\n",
       "      <td>decrease</td>\n",
       "      <td>0.0770</td>\n",
       "    </tr>\n",
       "    <tr>\n",
       "      <th>4</th>\n",
       "      <td>Angola</td>\n",
       "      <td>Africa</td>\n",
       "      <td>6.93</td>\n",
       "      <td>Level 2</td>\n",
       "      <td>64.6</td>\n",
       "      <td>1.120</td>\n",
       "      <td>decrease</td>\n",
       "      <td>30.8000</td>\n",
       "    </tr>\n",
       "    <tr>\n",
       "      <th>5</th>\n",
       "      <td>Antigua and Barbuda</td>\n",
       "      <td>Americas</td>\n",
       "      <td>21.00</td>\n",
       "      <td>Level 3</td>\n",
       "      <td>76.2</td>\n",
       "      <td>5.880</td>\n",
       "      <td>increase</td>\n",
       "      <td>0.0963</td>\n",
       "    </tr>\n",
       "    <tr>\n",
       "      <th>6</th>\n",
       "      <td>Argentina</td>\n",
       "      <td>Americas</td>\n",
       "      <td>22.70</td>\n",
       "      <td>Level 3</td>\n",
       "      <td>76.5</td>\n",
       "      <td>4.410</td>\n",
       "      <td>decrease</td>\n",
       "      <td>44.4000</td>\n",
       "    </tr>\n",
       "    <tr>\n",
       "      <th>7</th>\n",
       "      <td>Armenia</td>\n",
       "      <td>Europe</td>\n",
       "      <td>12.70</td>\n",
       "      <td>Level 3</td>\n",
       "      <td>75.6</td>\n",
       "      <td>1.890</td>\n",
       "      <td>decrease</td>\n",
       "      <td>2.9500</td>\n",
       "    </tr>\n",
       "    <tr>\n",
       "      <th>8</th>\n",
       "      <td>Australia</td>\n",
       "      <td>Asia</td>\n",
       "      <td>49.00</td>\n",
       "      <td>Level 4</td>\n",
       "      <td>82.9</td>\n",
       "      <td>16.900</td>\n",
       "      <td>decrease</td>\n",
       "      <td>24.9000</td>\n",
       "    </tr>\n",
       "    <tr>\n",
       "      <th>9</th>\n",
       "      <td>Austria</td>\n",
       "      <td>Europe</td>\n",
       "      <td>55.30</td>\n",
       "      <td>Level 4</td>\n",
       "      <td>82.1</td>\n",
       "      <td>7.750</td>\n",
       "      <td>decrease</td>\n",
       "      <td>8.8900</td>\n",
       "    </tr>\n",
       "  </tbody>\n",
       "</table>\n",
       "</div>"
      ],
      "text/plain": [
       "               country    region  income income_level  life_exp     co2  \\\n",
       "0          Afghanistan      Asia    2.03      Level 1      62.7   0.254   \n",
       "1              Albania    Europe   13.30      Level 3      78.4   1.590   \n",
       "2              Algeria    Africa   11.60      Level 3      76.0   3.690   \n",
       "3              Andorra    Europe   58.30      Level 4      82.1   6.120   \n",
       "4               Angola    Africa    6.93      Level 2      64.6   1.120   \n",
       "5  Antigua and Barbuda  Americas   21.00      Level 3      76.2   5.880   \n",
       "6            Argentina  Americas   22.70      Level 3      76.5   4.410   \n",
       "7              Armenia    Europe   12.70      Level 3      75.6   1.890   \n",
       "8            Australia      Asia   49.00      Level 4      82.9  16.900   \n",
       "9              Austria    Europe   55.30      Level 4      82.1   7.750   \n",
       "\n",
       "  co2_change  population  \n",
       "0   increase     37.2000  \n",
       "1   increase      2.8800  \n",
       "2   increase     42.2000  \n",
       "3   decrease      0.0770  \n",
       "4   decrease     30.8000  \n",
       "5   increase      0.0963  \n",
       "6   decrease     44.4000  \n",
       "7   decrease      2.9500  \n",
       "8   decrease     24.9000  \n",
       "9   decrease      8.8900  "
      ]
     },
     "execution_count": 6,
     "metadata": {},
     "output_type": "execute_result"
    }
   ],
   "source": [
    "gapminder_data.head(10)"
   ]
  },
  {
   "cell_type": "markdown",
   "metadata": {},
   "source": [
    "Выведите информацию о количестве записей и столбцов в наборе данных: "
   ]
  },
  {
   "cell_type": "code",
   "execution_count": 7,
   "metadata": {},
   "outputs": [
    {
     "data": {
      "text/plain": [
       "(193, 8)"
      ]
     },
     "execution_count": 7,
     "metadata": {},
     "output_type": "execute_result"
    }
   ],
   "source": [
    "gapminder_data.shape"
   ]
  },
  {
   "cell_type": "markdown",
   "metadata": {},
   "source": [
    "Произведите группировку данных по региону сохраните значение в переменной `region_means` содержащей усредненные значения по показателям `income`, `life_exp`, `co2`, `population`:"
   ]
  },
  {
   "cell_type": "code",
   "execution_count": 13,
   "metadata": {},
   "outputs": [
    {
     "data": {
      "text/html": [
       "<div>\n",
       "<style scoped>\n",
       "    .dataframe tbody tr th:only-of-type {\n",
       "        vertical-align: middle;\n",
       "    }\n",
       "\n",
       "    .dataframe tbody tr th {\n",
       "        vertical-align: top;\n",
       "    }\n",
       "\n",
       "    .dataframe thead th {\n",
       "        text-align: right;\n",
       "    }\n",
       "</style>\n",
       "<table border=\"1\" class=\"dataframe\">\n",
       "  <thead>\n",
       "    <tr style=\"text-align: right;\">\n",
       "      <th></th>\n",
       "      <th>income</th>\n",
       "      <th>life_exp</th>\n",
       "      <th>co2</th>\n",
       "      <th>population</th>\n",
       "    </tr>\n",
       "    <tr>\n",
       "      <th>region</th>\n",
       "      <th></th>\n",
       "      <th></th>\n",
       "      <th></th>\n",
       "      <th></th>\n",
       "    </tr>\n",
       "  </thead>\n",
       "  <tbody>\n",
       "    <tr>\n",
       "      <th>Africa</th>\n",
       "      <td>5.733426</td>\n",
       "      <td>65.277778</td>\n",
       "      <td>1.213459</td>\n",
       "      <td>23.597094</td>\n",
       "    </tr>\n",
       "    <tr>\n",
       "      <th>Americas</th>\n",
       "      <td>18.022857</td>\n",
       "      <td>75.240000</td>\n",
       "      <td>4.204057</td>\n",
       "      <td>28.597837</td>\n",
       "    </tr>\n",
       "    <tr>\n",
       "      <th>Asia</th>\n",
       "      <td>20.477627</td>\n",
       "      <td>72.779661</td>\n",
       "      <td>6.282186</td>\n",
       "      <td>76.264483</td>\n",
       "    </tr>\n",
       "    <tr>\n",
       "      <th>Europe</th>\n",
       "      <td>38.120000</td>\n",
       "      <td>78.866667</td>\n",
       "      <td>6.344000</td>\n",
       "      <td>18.812778</td>\n",
       "    </tr>\n",
       "  </tbody>\n",
       "</table>\n",
       "</div>"
      ],
      "text/plain": [
       "             income   life_exp       co2  population\n",
       "region                                              \n",
       "Africa     5.733426  65.277778  1.213459   23.597094\n",
       "Americas  18.022857  75.240000  4.204057   28.597837\n",
       "Asia      20.477627  72.779661  6.282186   76.264483\n",
       "Europe    38.120000  78.866667  6.344000   18.812778"
      ]
     },
     "execution_count": 13,
     "metadata": {},
     "output_type": "execute_result"
    }
   ],
   "source": [
    "region_means = gapminder_data.groupby('region').mean(['income', 'life_exp', 'co2', 'population'])\n",
    "region_means"
   ]
  },
  {
   "cell_type": "markdown",
   "metadata": {},
   "source": [
    "Отобразите список уникальных регионов, присутствующих в данных: "
   ]
  },
  {
   "cell_type": "code",
   "execution_count": 14,
   "metadata": {},
   "outputs": [
    {
     "data": {
      "text/plain": [
       "array(['Asia', 'Europe', 'Africa', 'Americas'], dtype=object)"
      ]
     },
     "execution_count": 14,
     "metadata": {},
     "output_type": "execute_result"
    }
   ],
   "source": [
    "unique_regions = gapminder_data['region'].unique()\n",
    "unique_regions"
   ]
  },
  {
   "cell_type": "markdown",
   "metadata": {},
   "source": [
    "Выведите список стран, входящих в регион 'Europe':"
   ]
  },
  {
   "cell_type": "code",
   "execution_count": 15,
   "metadata": {},
   "outputs": [
    {
     "data": {
      "text/plain": [
       "1                     Albania\n",
       "3                     Andorra\n",
       "7                     Armenia\n",
       "9                     Austria\n",
       "10                 Azerbaijan\n",
       "15                    Belarus\n",
       "16                    Belgium\n",
       "21     Bosnia and Herzegovina\n",
       "25                   Bulgaria\n",
       "42                    Croatia\n",
       "44                     Cyprus\n",
       "45             Czech Republic\n",
       "46                    Denmark\n",
       "55                    Estonia\n",
       "59                    Finland\n",
       "60                     France\n",
       "63                    Georgia\n",
       "64                    Germany\n",
       "66                     Greece\n",
       "75                    Hungary\n",
       "76                    Iceland\n",
       "81                    Ireland\n",
       "83                      Italy\n",
       "93                     Latvia\n",
       "98                  Lithuania\n",
       "99                 Luxembourg\n",
       "105                     Malta\n",
       "111                   Moldova\n",
       "113                Montenegro\n",
       "120               Netherlands\n",
       "126           North Macedonia\n",
       "127                    Norway\n",
       "137                    Poland\n",
       "138                  Portugal\n",
       "140                   Romania\n",
       "141                    Russia\n",
       "147                    Serbia\n",
       "151           Slovak Republic\n",
       "152                  Slovenia\n",
       "158                     Spain\n",
       "165                    Sweden\n",
       "166               Switzerland\n",
       "177                    Turkey\n",
       "181                   Ukraine\n",
       "183            United Kingdom\n",
       "Name: country, dtype: object"
      ]
     },
     "execution_count": 15,
     "metadata": {},
     "output_type": "execute_result"
    }
   ],
   "source": [
    "europe_countries = gapminder_data[gapminder_data['region'] == 'Europe']['country']\n",
    "europe_countries"
   ]
  },
  {
   "cell_type": "markdown",
   "metadata": {},
   "source": [
    "Найдите медианное значение продолжительности жизни ('life_exp') по региону 'Africa':"
   ]
  },
  {
   "cell_type": "code",
   "execution_count": 16,
   "metadata": {},
   "outputs": [
    {
     "data": {
      "text/plain": [
       "64.7"
      ]
     },
     "execution_count": 16,
     "metadata": {},
     "output_type": "execute_result"
    }
   ],
   "source": [
    "median_life_exp_africa = gapminder_data[gapminder_data['region']=='Africa']['life_exp'].median()\n",
    "median_life_exp_africa"
   ]
  },
  {
   "cell_type": "markdown",
   "metadata": {},
   "source": [
    "Найдите страну с наибольшим количеством выбросов CO2 ('co2')."
   ]
  },
  {
   "cell_type": "code",
   "execution_count": 18,
   "metadata": {},
   "outputs": [
    {
     "data": {
      "text/plain": [
       "'Qatar'"
      ]
     },
     "execution_count": 18,
     "metadata": {},
     "output_type": "execute_result"
    }
   ],
   "source": [
    "country_max_co2 = gapminder_data.loc[gapminder_data['co2'].idxmax()]['country']\n",
    "country_max_co2"
   ]
  },
  {
   "cell_type": "markdown",
   "metadata": {},
   "source": [
    "Создайте новый столбец 'income_category', который будет содержать значения 'low', 'medium' и 'high' в зависимости от уровня дохода ('income')."
   ]
  },
  {
   "cell_type": "code",
   "execution_count": null,
   "metadata": {},
   "outputs": [],
   "source": [
    "# Вставьте код\n"
   ]
  },
  {
   "cell_type": "markdown",
   "metadata": {},
   "source": [
    "Посчитайте общее население (`population`) по региону `Americas`:"
   ]
  },
  {
   "cell_type": "code",
   "execution_count": null,
   "metadata": {},
   "outputs": [],
   "source": [
    "# Вставьте код"
   ]
  }
 ],
 "metadata": {
  "kernelspec": {
   "display_name": "base",
   "language": "python",
   "name": "python3"
  },
  "language_info": {
   "codemirror_mode": {
    "name": "ipython",
    "version": 3
   },
   "file_extension": ".py",
   "mimetype": "text/x-python",
   "name": "python",
   "nbconvert_exporter": "python",
   "pygments_lexer": "ipython3",
   "version": "3.11.7"
  }
 },
 "nbformat": 4,
 "nbformat_minor": 2
}
