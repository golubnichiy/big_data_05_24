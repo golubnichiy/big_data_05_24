{
 "cells": [
  {
   "cell_type": "markdown",
   "metadata": {},
   "source": [
    "### Подключение библиотек и загрузка датасета"
   ]
  },
  {
   "cell_type": "code",
   "execution_count": 23,
   "metadata": {},
   "outputs": [],
   "source": [
    "import numpy as np\n",
    "import pandas as pd\n",
    "import re\n",
    "import nltk\n",
    "import string\n",
    "\n",
    "pd.options.mode.chained_assignment = None\n",
    "\n",
    "full_df = pd.read_csv('tweet_small.csv')"
   ]
  },
  {
   "cell_type": "markdown",
   "metadata": {},
   "source": [
    "### Просмотр данных"
   ]
  },
  {
   "cell_type": "code",
   "execution_count": 24,
   "metadata": {},
   "outputs": [
    {
     "name": "stdout",
     "output_type": "stream",
     "text": [
      "<class 'pandas.core.frame.DataFrame'>\n",
      "RangeIndex: 93 entries, 0 to 92\n",
      "Data columns (total 1 columns):\n",
      " #   Column  Non-Null Count  Dtype \n",
      "---  ------  --------------  ----- \n",
      " 0   text    93 non-null     object\n",
      "dtypes: object(1)\n",
      "memory usage: 876.0+ bytes\n"
     ]
    },
    {
     "data": {
      "text/plain": [
       "'@AppleSupport causing the reply to be disregarded and the tapped notification under the keyboard is opened😡😡😡'"
      ]
     },
     "execution_count": 24,
     "metadata": {},
     "output_type": "execute_result"
    }
   ],
   "source": [
    "df = full_df[['text']]\n",
    "df.info()\n",
    "df.text[0]"
   ]
  },
  {
   "cell_type": "markdown",
   "metadata": {},
   "source": [
    "### Перевод к нижнему регистру"
   ]
  },
  {
   "cell_type": "code",
   "execution_count": 25,
   "metadata": {},
   "outputs": [
    {
     "data": {
      "text/html": [
       "<div>\n",
       "<style scoped>\n",
       "    .dataframe tbody tr th:only-of-type {\n",
       "        vertical-align: middle;\n",
       "    }\n",
       "\n",
       "    .dataframe tbody tr th {\n",
       "        vertical-align: top;\n",
       "    }\n",
       "\n",
       "    .dataframe thead th {\n",
       "        text-align: right;\n",
       "    }\n",
       "</style>\n",
       "<table border=\"1\" class=\"dataframe\">\n",
       "  <thead>\n",
       "    <tr style=\"text-align: right;\">\n",
       "      <th></th>\n",
       "      <th>text</th>\n",
       "      <th>text_lower</th>\n",
       "    </tr>\n",
       "  </thead>\n",
       "  <tbody>\n",
       "    <tr>\n",
       "      <th>0</th>\n",
       "      <td>@AppleSupport causing the reply to be disregar...</td>\n",
       "      <td>@applesupport causing the reply to be disregar...</td>\n",
       "    </tr>\n",
       "    <tr>\n",
       "      <th>1</th>\n",
       "      <td>@105835 Your business means a lot to us. Pleas...</td>\n",
       "      <td>@105835 your business means a lot to us. pleas...</td>\n",
       "    </tr>\n",
       "    <tr>\n",
       "      <th>2</th>\n",
       "      <td>@76328 I really hope you all change but I'm su...</td>\n",
       "      <td>@76328 i really hope you all change but i'm su...</td>\n",
       "    </tr>\n",
       "    <tr>\n",
       "      <th>3</th>\n",
       "      <td>@105836 LiveChat is online at the moment - htt...</td>\n",
       "      <td>@105836 livechat is online at the moment - htt...</td>\n",
       "    </tr>\n",
       "    <tr>\n",
       "      <th>4</th>\n",
       "      <td>@VirginTrains see attached error message. I've...</td>\n",
       "      <td>@virgintrains see attached error message. i've...</td>\n",
       "    </tr>\n",
       "  </tbody>\n",
       "</table>\n",
       "</div>"
      ],
      "text/plain": [
       "                                                text  \\\n",
       "0  @AppleSupport causing the reply to be disregar...   \n",
       "1  @105835 Your business means a lot to us. Pleas...   \n",
       "2  @76328 I really hope you all change but I'm su...   \n",
       "3  @105836 LiveChat is online at the moment - htt...   \n",
       "4  @VirginTrains see attached error message. I've...   \n",
       "\n",
       "                                          text_lower  \n",
       "0  @applesupport causing the reply to be disregar...  \n",
       "1  @105835 your business means a lot to us. pleas...  \n",
       "2  @76328 i really hope you all change but i'm su...  \n",
       "3  @105836 livechat is online at the moment - htt...  \n",
       "4  @virgintrains see attached error message. i've...  "
      ]
     },
     "execution_count": 25,
     "metadata": {},
     "output_type": "execute_result"
    }
   ],
   "source": [
    "df['text_lower'] = df['text'].str.lower()\n",
    "df.head()"
   ]
  },
  {
   "cell_type": "markdown",
   "metadata": {},
   "source": [
    "### Удаление пунктуации"
   ]
  },
  {
   "cell_type": "code",
   "execution_count": 26,
   "metadata": {},
   "outputs": [
    {
     "data": {
      "text/html": [
       "<div>\n",
       "<style scoped>\n",
       "    .dataframe tbody tr th:only-of-type {\n",
       "        vertical-align: middle;\n",
       "    }\n",
       "\n",
       "    .dataframe tbody tr th {\n",
       "        vertical-align: top;\n",
       "    }\n",
       "\n",
       "    .dataframe thead th {\n",
       "        text-align: right;\n",
       "    }\n",
       "</style>\n",
       "<table border=\"1\" class=\"dataframe\">\n",
       "  <thead>\n",
       "    <tr style=\"text-align: right;\">\n",
       "      <th></th>\n",
       "      <th>text</th>\n",
       "      <th>text_lower</th>\n",
       "      <th>text_wo_punct</th>\n",
       "    </tr>\n",
       "  </thead>\n",
       "  <tbody>\n",
       "    <tr>\n",
       "      <th>0</th>\n",
       "      <td>@AppleSupport causing the reply to be disregar...</td>\n",
       "      <td>@applesupport causing the reply to be disregar...</td>\n",
       "      <td>applesupport causing the reply to be disregard...</td>\n",
       "    </tr>\n",
       "    <tr>\n",
       "      <th>1</th>\n",
       "      <td>@105835 Your business means a lot to us. Pleas...</td>\n",
       "      <td>@105835 your business means a lot to us. pleas...</td>\n",
       "      <td>105835 your business means a lot to us please ...</td>\n",
       "    </tr>\n",
       "    <tr>\n",
       "      <th>2</th>\n",
       "      <td>@76328 I really hope you all change but I'm su...</td>\n",
       "      <td>@76328 i really hope you all change but i'm su...</td>\n",
       "      <td>76328 i really hope you all change but im sure...</td>\n",
       "    </tr>\n",
       "    <tr>\n",
       "      <th>3</th>\n",
       "      <td>@105836 LiveChat is online at the moment - htt...</td>\n",
       "      <td>@105836 livechat is online at the moment - htt...</td>\n",
       "      <td>105836 livechat is online at the moment  https...</td>\n",
       "    </tr>\n",
       "    <tr>\n",
       "      <th>4</th>\n",
       "      <td>@VirginTrains see attached error message. I've...</td>\n",
       "      <td>@virgintrains see attached error message. i've...</td>\n",
       "      <td>virgintrains see attached error message ive tr...</td>\n",
       "    </tr>\n",
       "  </tbody>\n",
       "</table>\n",
       "</div>"
      ],
      "text/plain": [
       "                                                text  \\\n",
       "0  @AppleSupport causing the reply to be disregar...   \n",
       "1  @105835 Your business means a lot to us. Pleas...   \n",
       "2  @76328 I really hope you all change but I'm su...   \n",
       "3  @105836 LiveChat is online at the moment - htt...   \n",
       "4  @VirginTrains see attached error message. I've...   \n",
       "\n",
       "                                          text_lower  \\\n",
       "0  @applesupport causing the reply to be disregar...   \n",
       "1  @105835 your business means a lot to us. pleas...   \n",
       "2  @76328 i really hope you all change but i'm su...   \n",
       "3  @105836 livechat is online at the moment - htt...   \n",
       "4  @virgintrains see attached error message. i've...   \n",
       "\n",
       "                                       text_wo_punct  \n",
       "0  applesupport causing the reply to be disregard...  \n",
       "1  105835 your business means a lot to us please ...  \n",
       "2  76328 i really hope you all change but im sure...  \n",
       "3  105836 livechat is online at the moment  https...  \n",
       "4  virgintrains see attached error message ive tr...  "
      ]
     },
     "execution_count": 26,
     "metadata": {},
     "output_type": "execute_result"
    }
   ],
   "source": [
    "PUNCT_TO_REMOVE = string.punctuation\n",
    "def remove_punctuation(text):\n",
    "    return text.translate(str.maketrans('', '', PUNCT_TO_REMOVE))\n",
    "\n",
    "\n",
    "df['text_wo_punct'] = df['text_lower'].apply(remove_punctuation)\n",
    "df.head()"
   ]
  },
  {
   "cell_type": "markdown",
   "metadata": {},
   "source": [
    "### Удаление стоп-слов"
   ]
  },
  {
   "cell_type": "code",
   "execution_count": 29,
   "metadata": {},
   "outputs": [
    {
     "name": "stderr",
     "output_type": "stream",
     "text": [
      "[nltk_data] Downloading package stopwords to\n",
      "[nltk_data]     /Users/artemgolubnichiy/nltk_data...\n",
      "[nltk_data]   Package stopwords is already up-to-date!\n"
     ]
    },
    {
     "data": {
      "text/plain": [
       "\"i, me, my, myself, we, our, ours, ourselves, you, you're, you've, you'll, you'd, your, yours, yourself, yourselves, he, him, his, himself, she, she's, her, hers, herself, it, it's, its, itself, they, them, their, theirs, themselves, what, which, who, whom, this, that, that'll, these, those, am, is, are, was, were, be, been, being, have, has, had, having, do, does, did, doing, a, an, the, and, but, if, or, because, as, until, while, of, at, by, for, with, about, against, between, into, through, during, before, after, above, below, to, from, up, down, in, out, on, off, over, under, again, further, then, once, here, there, when, where, why, how, all, any, both, each, few, more, most, other, some, such, no, nor, not, only, own, same, so, than, too, very, s, t, can, will, just, don, don't, should, should've, now, d, ll, m, o, re, ve, y, ain, aren, aren't, couldn, couldn't, didn, didn't, doesn, doesn't, hadn, hadn't, hasn, hasn't, haven, haven't, isn, isn't, ma, mightn, mightn't, mustn, mustn't, needn, needn't, shan, shan't, shouldn, shouldn't, wasn, wasn't, weren, weren't, won, won't, wouldn, wouldn't\""
      ]
     },
     "execution_count": 29,
     "metadata": {},
     "output_type": "execute_result"
    }
   ],
   "source": [
    "from nltk.corpus import stopwords\n",
    "nltk.download('stopwords')\n",
    "', '.join(stopwords.words('english'))"
   ]
  },
  {
   "cell_type": "code",
   "execution_count": 30,
   "metadata": {},
   "outputs": [
    {
     "data": {
      "text/html": [
       "<div>\n",
       "<style scoped>\n",
       "    .dataframe tbody tr th:only-of-type {\n",
       "        vertical-align: middle;\n",
       "    }\n",
       "\n",
       "    .dataframe tbody tr th {\n",
       "        vertical-align: top;\n",
       "    }\n",
       "\n",
       "    .dataframe thead th {\n",
       "        text-align: right;\n",
       "    }\n",
       "</style>\n",
       "<table border=\"1\" class=\"dataframe\">\n",
       "  <thead>\n",
       "    <tr style=\"text-align: right;\">\n",
       "      <th></th>\n",
       "      <th>text</th>\n",
       "      <th>text_lower</th>\n",
       "      <th>text_wo_punct</th>\n",
       "      <th>text_wo_stop</th>\n",
       "    </tr>\n",
       "  </thead>\n",
       "  <tbody>\n",
       "    <tr>\n",
       "      <th>0</th>\n",
       "      <td>@AppleSupport causing the reply to be disregar...</td>\n",
       "      <td>@applesupport causing the reply to be disregar...</td>\n",
       "      <td>applesupport causing the reply to be disregard...</td>\n",
       "      <td>applesupport causing reply disregarded tapped ...</td>\n",
       "    </tr>\n",
       "    <tr>\n",
       "      <th>1</th>\n",
       "      <td>@105835 Your business means a lot to us. Pleas...</td>\n",
       "      <td>@105835 your business means a lot to us. pleas...</td>\n",
       "      <td>105835 your business means a lot to us please ...</td>\n",
       "      <td>105835 business means lot us please dm name zi...</td>\n",
       "    </tr>\n",
       "    <tr>\n",
       "      <th>2</th>\n",
       "      <td>@76328 I really hope you all change but I'm su...</td>\n",
       "      <td>@76328 i really hope you all change but i'm su...</td>\n",
       "      <td>76328 i really hope you all change but im sure...</td>\n",
       "      <td>76328 really hope change im sure wont dont</td>\n",
       "    </tr>\n",
       "    <tr>\n",
       "      <th>3</th>\n",
       "      <td>@105836 LiveChat is online at the moment - htt...</td>\n",
       "      <td>@105836 livechat is online at the moment - htt...</td>\n",
       "      <td>105836 livechat is online at the moment  https...</td>\n",
       "      <td>105836 livechat online moment  httpstcosy94vtu...</td>\n",
       "    </tr>\n",
       "    <tr>\n",
       "      <th>4</th>\n",
       "      <td>@VirginTrains see attached error message. I've...</td>\n",
       "      <td>@virgintrains see attached error message. i've...</td>\n",
       "      <td>virgintrains see attached error message ive tr...</td>\n",
       "      <td>virgintrains see attached error message ive tr...</td>\n",
       "    </tr>\n",
       "  </tbody>\n",
       "</table>\n",
       "</div>"
      ],
      "text/plain": [
       "                                                text  \\\n",
       "0  @AppleSupport causing the reply to be disregar...   \n",
       "1  @105835 Your business means a lot to us. Pleas...   \n",
       "2  @76328 I really hope you all change but I'm su...   \n",
       "3  @105836 LiveChat is online at the moment - htt...   \n",
       "4  @VirginTrains see attached error message. I've...   \n",
       "\n",
       "                                          text_lower  \\\n",
       "0  @applesupport causing the reply to be disregar...   \n",
       "1  @105835 your business means a lot to us. pleas...   \n",
       "2  @76328 i really hope you all change but i'm su...   \n",
       "3  @105836 livechat is online at the moment - htt...   \n",
       "4  @virgintrains see attached error message. i've...   \n",
       "\n",
       "                                       text_wo_punct  \\\n",
       "0  applesupport causing the reply to be disregard...   \n",
       "1  105835 your business means a lot to us please ...   \n",
       "2  76328 i really hope you all change but im sure...   \n",
       "3  105836 livechat is online at the moment  https...   \n",
       "4  virgintrains see attached error message ive tr...   \n",
       "\n",
       "                                        text_wo_stop  \n",
       "0  applesupport causing reply disregarded tapped ...  \n",
       "1  105835 business means lot us please dm name zi...  \n",
       "2         76328 really hope change im sure wont dont  \n",
       "3  105836 livechat online moment  httpstcosy94vtu...  \n",
       "4  virgintrains see attached error message ive tr...  "
      ]
     },
     "execution_count": 30,
     "metadata": {},
     "output_type": "execute_result"
    }
   ],
   "source": [
    "STOPWORDS = set(stopwords.words('english'))\n",
    "def remove_stopwords(text):\n",
    "    return ' '.join([word for word in str(text).split(' ') if word not in STOPWORDS])\n",
    "\n",
    "df['text_wo_stop'] = df['text_wo_punct'].apply(remove_stopwords)\n",
    "df.head()"
   ]
  },
  {
   "cell_type": "markdown",
   "metadata": {},
   "source": [
    "### Удаление наиболее частых слов"
   ]
  },
  {
   "cell_type": "code",
   "execution_count": 31,
   "metadata": {},
   "outputs": [
    {
     "data": {
      "text/plain": [
       "[('us', 25),\n",
       " ('dm', 19),\n",
       " ('help', 18),\n",
       " ('thanks', 13),\n",
       " ('httpstcogdrqu22ypt', 12),\n",
       " ('applesupport', 11),\n",
       " ('please', 11),\n",
       " ('phone', 9),\n",
       " ('hi', 9),\n",
       " ('ive', 8)]"
      ]
     },
     "execution_count": 31,
     "metadata": {},
     "output_type": "execute_result"
    }
   ],
   "source": [
    "from collections import Counter\n",
    "cnt = Counter()\n",
    "for text in df['text_wo_stop'].values:\n",
    "    for word in text.split():\n",
    "        cnt[word]+=1\n",
    "\n",
    "cnt.most_common(10)\n"
   ]
  },
  {
   "cell_type": "code",
   "execution_count": 32,
   "metadata": {},
   "outputs": [
    {
     "data": {
      "text/html": [
       "<div>\n",
       "<style scoped>\n",
       "    .dataframe tbody tr th:only-of-type {\n",
       "        vertical-align: middle;\n",
       "    }\n",
       "\n",
       "    .dataframe tbody tr th {\n",
       "        vertical-align: top;\n",
       "    }\n",
       "\n",
       "    .dataframe thead th {\n",
       "        text-align: right;\n",
       "    }\n",
       "</style>\n",
       "<table border=\"1\" class=\"dataframe\">\n",
       "  <thead>\n",
       "    <tr style=\"text-align: right;\">\n",
       "      <th></th>\n",
       "      <th>text</th>\n",
       "      <th>text_lower</th>\n",
       "      <th>text_wo_punct</th>\n",
       "      <th>text_wo_stop</th>\n",
       "      <th>text_wo_stop_freq</th>\n",
       "    </tr>\n",
       "  </thead>\n",
       "  <tbody>\n",
       "    <tr>\n",
       "      <th>0</th>\n",
       "      <td>@AppleSupport causing the reply to be disregar...</td>\n",
       "      <td>@applesupport causing the reply to be disregar...</td>\n",
       "      <td>applesupport causing the reply to be disregard...</td>\n",
       "      <td>applesupport causing reply disregarded tapped ...</td>\n",
       "      <td>causing reply disregarded tapped notification ...</td>\n",
       "    </tr>\n",
       "    <tr>\n",
       "      <th>1</th>\n",
       "      <td>@105835 Your business means a lot to us. Pleas...</td>\n",
       "      <td>@105835 your business means a lot to us. pleas...</td>\n",
       "      <td>105835 your business means a lot to us please ...</td>\n",
       "      <td>105835 business means lot us please dm name zi...</td>\n",
       "      <td>105835 business means lot name zip code additi...</td>\n",
       "    </tr>\n",
       "    <tr>\n",
       "      <th>2</th>\n",
       "      <td>@76328 I really hope you all change but I'm su...</td>\n",
       "      <td>@76328 i really hope you all change but i'm su...</td>\n",
       "      <td>76328 i really hope you all change but im sure...</td>\n",
       "      <td>76328 really hope change im sure wont dont</td>\n",
       "      <td>76328 really hope change im sure wont dont</td>\n",
       "    </tr>\n",
       "    <tr>\n",
       "      <th>3</th>\n",
       "      <td>@105836 LiveChat is online at the moment - htt...</td>\n",
       "      <td>@105836 livechat is online at the moment - htt...</td>\n",
       "      <td>105836 livechat is online at the moment  https...</td>\n",
       "      <td>105836 livechat online moment  httpstcosy94vtu...</td>\n",
       "      <td>105836 livechat online moment  httpstcosy94vtu...</td>\n",
       "    </tr>\n",
       "    <tr>\n",
       "      <th>4</th>\n",
       "      <td>@VirginTrains see attached error message. I've...</td>\n",
       "      <td>@virgintrains see attached error message. i've...</td>\n",
       "      <td>virgintrains see attached error message ive tr...</td>\n",
       "      <td>virgintrains see attached error message ive tr...</td>\n",
       "      <td>virgintrains see attached error message tried ...</td>\n",
       "    </tr>\n",
       "  </tbody>\n",
       "</table>\n",
       "</div>"
      ],
      "text/plain": [
       "                                                text  \\\n",
       "0  @AppleSupport causing the reply to be disregar...   \n",
       "1  @105835 Your business means a lot to us. Pleas...   \n",
       "2  @76328 I really hope you all change but I'm su...   \n",
       "3  @105836 LiveChat is online at the moment - htt...   \n",
       "4  @VirginTrains see attached error message. I've...   \n",
       "\n",
       "                                          text_lower  \\\n",
       "0  @applesupport causing the reply to be disregar...   \n",
       "1  @105835 your business means a lot to us. pleas...   \n",
       "2  @76328 i really hope you all change but i'm su...   \n",
       "3  @105836 livechat is online at the moment - htt...   \n",
       "4  @virgintrains see attached error message. i've...   \n",
       "\n",
       "                                       text_wo_punct  \\\n",
       "0  applesupport causing the reply to be disregard...   \n",
       "1  105835 your business means a lot to us please ...   \n",
       "2  76328 i really hope you all change but im sure...   \n",
       "3  105836 livechat is online at the moment  https...   \n",
       "4  virgintrains see attached error message ive tr...   \n",
       "\n",
       "                                        text_wo_stop  \\\n",
       "0  applesupport causing reply disregarded tapped ...   \n",
       "1  105835 business means lot us please dm name zi...   \n",
       "2         76328 really hope change im sure wont dont   \n",
       "3  105836 livechat online moment  httpstcosy94vtu...   \n",
       "4  virgintrains see attached error message ive tr...   \n",
       "\n",
       "                                   text_wo_stop_freq  \n",
       "0  causing reply disregarded tapped notification ...  \n",
       "1  105835 business means lot name zip code additi...  \n",
       "2         76328 really hope change im sure wont dont  \n",
       "3  105836 livechat online moment  httpstcosy94vtu...  \n",
       "4  virgintrains see attached error message tried ...  "
      ]
     },
     "execution_count": 32,
     "metadata": {},
     "output_type": "execute_result"
    }
   ],
   "source": [
    "FREQWORDS = set([w for (w,wc) in cnt.most_common(10)])\n",
    "\n",
    "def remove_freqwords(text):\n",
    "    return ' '.join([word for word in str(text).split(' ') if word not in FREQWORDS])\n",
    "\n",
    "df['text_wo_stop_freq'] = df['text_wo_stop'].apply(remove_freqwords)\n",
    "df.head()"
   ]
  },
  {
   "cell_type": "markdown",
   "metadata": {},
   "source": [
    "### Удаление лишнего"
   ]
  },
  {
   "cell_type": "code",
   "execution_count": 33,
   "metadata": {},
   "outputs": [],
   "source": [
    "df.drop(['text_wo_punct', 'text_wo_stop'], axis=1, inplace=True)"
   ]
  },
  {
   "cell_type": "code",
   "execution_count": 34,
   "metadata": {},
   "outputs": [
    {
     "data": {
      "text/plain": [
       "{'browser',\n",
       " 'green',\n",
       " 'httpstco9281okeebk',\n",
       " 'including',\n",
       " 'keen',\n",
       " 'lee',\n",
       " 'line',\n",
       " 'log',\n",
       " 'slowdown',\n",
       " 'thin'}"
      ]
     },
     "execution_count": 34,
     "metadata": {},
     "output_type": "execute_result"
    }
   ],
   "source": [
    "n_rare_words = 10\n",
    "RAREWORDS = set([w for (w,wc) in cnt.most_common()[:-n_rare_words-1:-1]])\n",
    "RAREWORDS"
   ]
  },
  {
   "cell_type": "code",
   "execution_count": 35,
   "metadata": {},
   "outputs": [
    {
     "data": {
      "text/html": [
       "<div>\n",
       "<style scoped>\n",
       "    .dataframe tbody tr th:only-of-type {\n",
       "        vertical-align: middle;\n",
       "    }\n",
       "\n",
       "    .dataframe tbody tr th {\n",
       "        vertical-align: top;\n",
       "    }\n",
       "\n",
       "    .dataframe thead th {\n",
       "        text-align: right;\n",
       "    }\n",
       "</style>\n",
       "<table border=\"1\" class=\"dataframe\">\n",
       "  <thead>\n",
       "    <tr style=\"text-align: right;\">\n",
       "      <th></th>\n",
       "      <th>text</th>\n",
       "      <th>text_lower</th>\n",
       "      <th>text_wo_stop_freq</th>\n",
       "      <th>text_wo_stop_freq_rare</th>\n",
       "    </tr>\n",
       "  </thead>\n",
       "  <tbody>\n",
       "    <tr>\n",
       "      <th>0</th>\n",
       "      <td>@AppleSupport causing the reply to be disregar...</td>\n",
       "      <td>@applesupport causing the reply to be disregar...</td>\n",
       "      <td>causing reply disregarded tapped notification ...</td>\n",
       "      <td>causing reply disregarded tapped notification ...</td>\n",
       "    </tr>\n",
       "    <tr>\n",
       "      <th>1</th>\n",
       "      <td>@105835 Your business means a lot to us. Pleas...</td>\n",
       "      <td>@105835 your business means a lot to us. pleas...</td>\n",
       "      <td>105835 business means lot name zip code additi...</td>\n",
       "      <td>105835 business means lot name zip code additi...</td>\n",
       "    </tr>\n",
       "    <tr>\n",
       "      <th>2</th>\n",
       "      <td>@76328 I really hope you all change but I'm su...</td>\n",
       "      <td>@76328 i really hope you all change but i'm su...</td>\n",
       "      <td>76328 really hope change im sure wont dont</td>\n",
       "      <td>76328 really hope change im sure wont dont</td>\n",
       "    </tr>\n",
       "    <tr>\n",
       "      <th>3</th>\n",
       "      <td>@105836 LiveChat is online at the moment - htt...</td>\n",
       "      <td>@105836 livechat is online at the moment - htt...</td>\n",
       "      <td>105836 livechat online moment  httpstcosy94vtu...</td>\n",
       "      <td>105836 livechat online moment  httpstcosy94vtu...</td>\n",
       "    </tr>\n",
       "    <tr>\n",
       "      <th>4</th>\n",
       "      <td>@VirginTrains see attached error message. I've...</td>\n",
       "      <td>@virgintrains see attached error message. i've...</td>\n",
       "      <td>virgintrains see attached error message tried ...</td>\n",
       "      <td>virgintrains see attached error message tried ...</td>\n",
       "    </tr>\n",
       "  </tbody>\n",
       "</table>\n",
       "</div>"
      ],
      "text/plain": [
       "                                                text  \\\n",
       "0  @AppleSupport causing the reply to be disregar...   \n",
       "1  @105835 Your business means a lot to us. Pleas...   \n",
       "2  @76328 I really hope you all change but I'm su...   \n",
       "3  @105836 LiveChat is online at the moment - htt...   \n",
       "4  @VirginTrains see attached error message. I've...   \n",
       "\n",
       "                                          text_lower  \\\n",
       "0  @applesupport causing the reply to be disregar...   \n",
       "1  @105835 your business means a lot to us. pleas...   \n",
       "2  @76328 i really hope you all change but i'm su...   \n",
       "3  @105836 livechat is online at the moment - htt...   \n",
       "4  @virgintrains see attached error message. i've...   \n",
       "\n",
       "                                   text_wo_stop_freq  \\\n",
       "0  causing reply disregarded tapped notification ...   \n",
       "1  105835 business means lot name zip code additi...   \n",
       "2         76328 really hope change im sure wont dont   \n",
       "3  105836 livechat online moment  httpstcosy94vtu...   \n",
       "4  virgintrains see attached error message tried ...   \n",
       "\n",
       "                              text_wo_stop_freq_rare  \n",
       "0  causing reply disregarded tapped notification ...  \n",
       "1  105835 business means lot name zip code additi...  \n",
       "2         76328 really hope change im sure wont dont  \n",
       "3  105836 livechat online moment  httpstcosy94vtu...  \n",
       "4  virgintrains see attached error message tried ...  "
      ]
     },
     "execution_count": 35,
     "metadata": {},
     "output_type": "execute_result"
    }
   ],
   "source": [
    "def remove_rarewords(text):\n",
    "    return ' '.join([word for word in str(text).split(' ') if word not in RAREWORDS])\n",
    "\n",
    "df['text_wo_stop_freq_rare'] = df['text_wo_stop_freq'].apply(remove_rarewords)\n",
    "df.head()"
   ]
  },
  {
   "cell_type": "markdown",
   "metadata": {},
   "source": [
    "### Стемминг"
   ]
  },
  {
   "cell_type": "code",
   "execution_count": 36,
   "metadata": {},
   "outputs": [
    {
     "data": {
      "text/html": [
       "<div>\n",
       "<style scoped>\n",
       "    .dataframe tbody tr th:only-of-type {\n",
       "        vertical-align: middle;\n",
       "    }\n",
       "\n",
       "    .dataframe tbody tr th {\n",
       "        vertical-align: top;\n",
       "    }\n",
       "\n",
       "    .dataframe thead th {\n",
       "        text-align: right;\n",
       "    }\n",
       "</style>\n",
       "<table border=\"1\" class=\"dataframe\">\n",
       "  <thead>\n",
       "    <tr style=\"text-align: right;\">\n",
       "      <th></th>\n",
       "      <th>text</th>\n",
       "      <th>text_lower</th>\n",
       "      <th>text_wo_stop_freq</th>\n",
       "      <th>text_wo_stop_freq_rare</th>\n",
       "      <th>text_stemmed</th>\n",
       "    </tr>\n",
       "  </thead>\n",
       "  <tbody>\n",
       "    <tr>\n",
       "      <th>0</th>\n",
       "      <td>@AppleSupport causing the reply to be disregar...</td>\n",
       "      <td>@applesupport causing the reply to be disregar...</td>\n",
       "      <td>causing reply disregarded tapped notification ...</td>\n",
       "      <td>causing reply disregarded tapped notification ...</td>\n",
       "      <td>caus repli disregard tap notif keyboard opened😡😡😡</td>\n",
       "    </tr>\n",
       "    <tr>\n",
       "      <th>1</th>\n",
       "      <td>@105835 Your business means a lot to us. Pleas...</td>\n",
       "      <td>@105835 your business means a lot to us. pleas...</td>\n",
       "      <td>105835 business means lot name zip code additi...</td>\n",
       "      <td>105835 business means lot name zip code additi...</td>\n",
       "      <td>105835 busi mean lot name zip code addit detai...</td>\n",
       "    </tr>\n",
       "    <tr>\n",
       "      <th>2</th>\n",
       "      <td>@76328 I really hope you all change but I'm su...</td>\n",
       "      <td>@76328 i really hope you all change but i'm su...</td>\n",
       "      <td>76328 really hope change im sure wont dont</td>\n",
       "      <td>76328 really hope change im sure wont dont</td>\n",
       "      <td>76328 realli hope chang im sure wont dont</td>\n",
       "    </tr>\n",
       "    <tr>\n",
       "      <th>3</th>\n",
       "      <td>@105836 LiveChat is online at the moment - htt...</td>\n",
       "      <td>@105836 livechat is online at the moment - htt...</td>\n",
       "      <td>105836 livechat online moment  httpstcosy94vtu...</td>\n",
       "      <td>105836 livechat online moment  httpstcosy94vtu...</td>\n",
       "      <td>105836 livechat onlin moment httpstcosy94vtu8k...</td>\n",
       "    </tr>\n",
       "    <tr>\n",
       "      <th>4</th>\n",
       "      <td>@VirginTrains see attached error message. I've...</td>\n",
       "      <td>@virgintrains see attached error message. i've...</td>\n",
       "      <td>virgintrains see attached error message tried ...</td>\n",
       "      <td>virgintrains see attached error message tried ...</td>\n",
       "      <td>virgintrain see attach error messag tri leav v...</td>\n",
       "    </tr>\n",
       "  </tbody>\n",
       "</table>\n",
       "</div>"
      ],
      "text/plain": [
       "                                                text  \\\n",
       "0  @AppleSupport causing the reply to be disregar...   \n",
       "1  @105835 Your business means a lot to us. Pleas...   \n",
       "2  @76328 I really hope you all change but I'm su...   \n",
       "3  @105836 LiveChat is online at the moment - htt...   \n",
       "4  @VirginTrains see attached error message. I've...   \n",
       "\n",
       "                                          text_lower  \\\n",
       "0  @applesupport causing the reply to be disregar...   \n",
       "1  @105835 your business means a lot to us. pleas...   \n",
       "2  @76328 i really hope you all change but i'm su...   \n",
       "3  @105836 livechat is online at the moment - htt...   \n",
       "4  @virgintrains see attached error message. i've...   \n",
       "\n",
       "                                   text_wo_stop_freq  \\\n",
       "0  causing reply disregarded tapped notification ...   \n",
       "1  105835 business means lot name zip code additi...   \n",
       "2         76328 really hope change im sure wont dont   \n",
       "3  105836 livechat online moment  httpstcosy94vtu...   \n",
       "4  virgintrains see attached error message tried ...   \n",
       "\n",
       "                              text_wo_stop_freq_rare  \\\n",
       "0  causing reply disregarded tapped notification ...   \n",
       "1  105835 business means lot name zip code additi...   \n",
       "2         76328 really hope change im sure wont dont   \n",
       "3  105836 livechat online moment  httpstcosy94vtu...   \n",
       "4  virgintrains see attached error message tried ...   \n",
       "\n",
       "                                        text_stemmed  \n",
       "0  caus repli disregard tap notif keyboard opened😡😡😡  \n",
       "1  105835 busi mean lot name zip code addit detai...  \n",
       "2          76328 realli hope chang im sure wont dont  \n",
       "3  105836 livechat onlin moment httpstcosy94vtu8k...  \n",
       "4  virgintrain see attach error messag tri leav v...  "
      ]
     },
     "execution_count": 36,
     "metadata": {},
     "output_type": "execute_result"
    }
   ],
   "source": [
    "from nltk.stem import PorterStemmer\n",
    "stemmer = PorterStemmer()\n",
    "\n",
    "def stem_words(text):\n",
    "    return ' '.join([stemmer.stem(word) for word in text.split()])\n",
    "\n",
    "df['text_stemmed'] = df['text_wo_stop_freq_rare'].apply(stem_words)\n",
    "df.head()"
   ]
  }
 ],
 "metadata": {
  "kernelspec": {
   "display_name": "base",
   "language": "python",
   "name": "python3"
  },
  "language_info": {
   "codemirror_mode": {
    "name": "ipython",
    "version": 3
   },
   "file_extension": ".py",
   "mimetype": "text/x-python",
   "name": "python",
   "nbconvert_exporter": "python",
   "pygments_lexer": "ipython3",
   "version": "3.11.7"
  }
 },
 "nbformat": 4,
 "nbformat_minor": 2
}
