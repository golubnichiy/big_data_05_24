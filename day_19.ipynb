{
 "cells": [
  {
   "cell_type": "markdown",
   "metadata": {},
   "source": [
    "### Установка PySpark"
   ]
  },
  {
   "cell_type": "code",
   "execution_count": 1,
   "metadata": {},
   "outputs": [],
   "source": [
    "#!pip install pyspark"
   ]
  },
  {
   "cell_type": "markdown",
   "metadata": {},
   "source": [
    "### Создаем Spark сессию и устанавливаем зависимости"
   ]
  },
  {
   "cell_type": "code",
   "execution_count": 2,
   "metadata": {},
   "outputs": [
    {
     "name": "stderr",
     "output_type": "stream",
     "text": [
      "Setting default log level to \"WARN\".\n",
      "To adjust logging level use sc.setLogLevel(newLevel). For SparkR, use setLogLevel(newLevel).\n",
      "24/06/07 17:57:01 WARN NativeCodeLoader: Unable to load native-hadoop library for your platform... using builtin-java classes where applicable\n"
     ]
    }
   ],
   "source": [
    "from pyspark.sql import SparkSession\n",
    "spark = SparkSession.builder.appName('titanic').getOrCreate()"
   ]
  },
  {
   "cell_type": "markdown",
   "metadata": {},
   "source": [
    "### Импортирование дополнительных библиотек"
   ]
  },
  {
   "cell_type": "code",
   "execution_count": 3,
   "metadata": {},
   "outputs": [],
   "source": [
    "from itertools import chain\n",
    "from pyspark.sql.functions import count, mean, when, lit, create_map, regexp_extract"
   ]
  },
  {
   "cell_type": "markdown",
   "metadata": {},
   "source": [
    "### Импортирование данных (Titanic)"
   ]
  },
  {
   "cell_type": "code",
   "execution_count": 4,
   "metadata": {},
   "outputs": [],
   "source": [
    "df = spark.read.csv('tit_train.csv', header=True, inferSchema=True)"
   ]
  },
  {
   "cell_type": "code",
   "execution_count": 5,
   "metadata": {},
   "outputs": [
    {
     "name": "stdout",
     "output_type": "stream",
     "text": [
      "root\n",
      " |-- PassengerId: integer (nullable = true)\n",
      " |-- Survived: integer (nullable = true)\n",
      " |-- Pclass: integer (nullable = true)\n",
      " |-- Name: string (nullable = true)\n",
      " |-- Sex: string (nullable = true)\n",
      " |-- Age: double (nullable = true)\n",
      " |-- SibSp: integer (nullable = true)\n",
      " |-- Parch: integer (nullable = true)\n",
      " |-- Ticket: string (nullable = true)\n",
      " |-- Fare: double (nullable = true)\n",
      " |-- Cabin: string (nullable = true)\n",
      " |-- Embarked: string (nullable = true)\n",
      "\n"
     ]
    }
   ],
   "source": [
    "df.printSchema()"
   ]
  },
  {
   "cell_type": "code",
   "execution_count": 6,
   "metadata": {},
   "outputs": [
    {
     "name": "stdout",
     "output_type": "stream",
     "text": [
      "+-----------+--------+------+--------------------+------+----+-----+-----+----------------+-------+-----+--------+\n",
      "|PassengerId|Survived|Pclass|                Name|   Sex| Age|SibSp|Parch|          Ticket|   Fare|Cabin|Embarked|\n",
      "+-----------+--------+------+--------------------+------+----+-----+-----+----------------+-------+-----+--------+\n",
      "|          1|       0|     3|Braund, Mr. Owen ...|  male|22.0|    1|    0|       A/5 21171|   7.25| NULL|       S|\n",
      "|          2|       1|     1|Cumings, Mrs. Joh...|female|38.0|    1|    0|        PC 17599|71.2833|  C85|       C|\n",
      "|          3|       1|     3|Heikkinen, Miss. ...|female|26.0|    0|    0|STON/O2. 3101282|  7.925| NULL|       S|\n",
      "+-----------+--------+------+--------------------+------+----+-----+-----+----------------+-------+-----+--------+\n",
      "only showing top 3 rows\n",
      "\n"
     ]
    }
   ],
   "source": [
    "df.show(3)"
   ]
  },
  {
   "cell_type": "markdown",
   "metadata": {},
   "source": [
    "### Отображение в Pandas"
   ]
  },
  {
   "cell_type": "code",
   "execution_count": 7,
   "metadata": {},
   "outputs": [
    {
     "data": {
      "text/html": [
       "<div>\n",
       "<style scoped>\n",
       "    .dataframe tbody tr th:only-of-type {\n",
       "        vertical-align: middle;\n",
       "    }\n",
       "\n",
       "    .dataframe tbody tr th {\n",
       "        vertical-align: top;\n",
       "    }\n",
       "\n",
       "    .dataframe thead th {\n",
       "        text-align: right;\n",
       "    }\n",
       "</style>\n",
       "<table border=\"1\" class=\"dataframe\">\n",
       "  <thead>\n",
       "    <tr style=\"text-align: right;\">\n",
       "      <th></th>\n",
       "      <th>PassengerId</th>\n",
       "      <th>Survived</th>\n",
       "      <th>Pclass</th>\n",
       "      <th>Name</th>\n",
       "      <th>Sex</th>\n",
       "      <th>Age</th>\n",
       "      <th>SibSp</th>\n",
       "      <th>Parch</th>\n",
       "      <th>Ticket</th>\n",
       "      <th>Fare</th>\n",
       "      <th>Cabin</th>\n",
       "      <th>Embarked</th>\n",
       "    </tr>\n",
       "  </thead>\n",
       "  <tbody>\n",
       "    <tr>\n",
       "      <th>0</th>\n",
       "      <td>1</td>\n",
       "      <td>0</td>\n",
       "      <td>3</td>\n",
       "      <td>Braund, Mr. Owen Harris</td>\n",
       "      <td>male</td>\n",
       "      <td>22.0</td>\n",
       "      <td>1</td>\n",
       "      <td>0</td>\n",
       "      <td>A/5 21171</td>\n",
       "      <td>7.2500</td>\n",
       "      <td>None</td>\n",
       "      <td>S</td>\n",
       "    </tr>\n",
       "    <tr>\n",
       "      <th>1</th>\n",
       "      <td>2</td>\n",
       "      <td>1</td>\n",
       "      <td>1</td>\n",
       "      <td>Cumings, Mrs. John Bradley (Florence Briggs Th...</td>\n",
       "      <td>female</td>\n",
       "      <td>38.0</td>\n",
       "      <td>1</td>\n",
       "      <td>0</td>\n",
       "      <td>PC 17599</td>\n",
       "      <td>71.2833</td>\n",
       "      <td>C85</td>\n",
       "      <td>C</td>\n",
       "    </tr>\n",
       "    <tr>\n",
       "      <th>2</th>\n",
       "      <td>3</td>\n",
       "      <td>1</td>\n",
       "      <td>3</td>\n",
       "      <td>Heikkinen, Miss. Laina</td>\n",
       "      <td>female</td>\n",
       "      <td>26.0</td>\n",
       "      <td>0</td>\n",
       "      <td>0</td>\n",
       "      <td>STON/O2. 3101282</td>\n",
       "      <td>7.9250</td>\n",
       "      <td>None</td>\n",
       "      <td>S</td>\n",
       "    </tr>\n",
       "    <tr>\n",
       "      <th>3</th>\n",
       "      <td>4</td>\n",
       "      <td>1</td>\n",
       "      <td>1</td>\n",
       "      <td>Futrelle, Mrs. Jacques Heath (Lily May Peel)</td>\n",
       "      <td>female</td>\n",
       "      <td>35.0</td>\n",
       "      <td>1</td>\n",
       "      <td>0</td>\n",
       "      <td>113803</td>\n",
       "      <td>53.1000</td>\n",
       "      <td>C123</td>\n",
       "      <td>S</td>\n",
       "    </tr>\n",
       "    <tr>\n",
       "      <th>4</th>\n",
       "      <td>5</td>\n",
       "      <td>0</td>\n",
       "      <td>3</td>\n",
       "      <td>Allen, Mr. William Henry</td>\n",
       "      <td>male</td>\n",
       "      <td>35.0</td>\n",
       "      <td>0</td>\n",
       "      <td>0</td>\n",
       "      <td>373450</td>\n",
       "      <td>8.0500</td>\n",
       "      <td>None</td>\n",
       "      <td>S</td>\n",
       "    </tr>\n",
       "    <tr>\n",
       "      <th>5</th>\n",
       "      <td>6</td>\n",
       "      <td>0</td>\n",
       "      <td>3</td>\n",
       "      <td>Moran, Mr. James</td>\n",
       "      <td>male</td>\n",
       "      <td>NaN</td>\n",
       "      <td>0</td>\n",
       "      <td>0</td>\n",
       "      <td>330877</td>\n",
       "      <td>8.4583</td>\n",
       "      <td>None</td>\n",
       "      <td>Q</td>\n",
       "    </tr>\n",
       "    <tr>\n",
       "      <th>6</th>\n",
       "      <td>7</td>\n",
       "      <td>0</td>\n",
       "      <td>1</td>\n",
       "      <td>McCarthy, Mr. Timothy J</td>\n",
       "      <td>male</td>\n",
       "      <td>54.0</td>\n",
       "      <td>0</td>\n",
       "      <td>0</td>\n",
       "      <td>17463</td>\n",
       "      <td>51.8625</td>\n",
       "      <td>E46</td>\n",
       "      <td>S</td>\n",
       "    </tr>\n",
       "    <tr>\n",
       "      <th>7</th>\n",
       "      <td>8</td>\n",
       "      <td>0</td>\n",
       "      <td>3</td>\n",
       "      <td>Palsson, Master. Gosta Leonard</td>\n",
       "      <td>male</td>\n",
       "      <td>2.0</td>\n",
       "      <td>3</td>\n",
       "      <td>1</td>\n",
       "      <td>349909</td>\n",
       "      <td>21.0750</td>\n",
       "      <td>None</td>\n",
       "      <td>S</td>\n",
       "    </tr>\n",
       "    <tr>\n",
       "      <th>8</th>\n",
       "      <td>9</td>\n",
       "      <td>1</td>\n",
       "      <td>3</td>\n",
       "      <td>Johnson, Mrs. Oscar W (Elisabeth Vilhelmina Berg)</td>\n",
       "      <td>female</td>\n",
       "      <td>27.0</td>\n",
       "      <td>0</td>\n",
       "      <td>2</td>\n",
       "      <td>347742</td>\n",
       "      <td>11.1333</td>\n",
       "      <td>None</td>\n",
       "      <td>S</td>\n",
       "    </tr>\n",
       "    <tr>\n",
       "      <th>9</th>\n",
       "      <td>10</td>\n",
       "      <td>1</td>\n",
       "      <td>2</td>\n",
       "      <td>Nasser, Mrs. Nicholas (Adele Achem)</td>\n",
       "      <td>female</td>\n",
       "      <td>14.0</td>\n",
       "      <td>1</td>\n",
       "      <td>0</td>\n",
       "      <td>237736</td>\n",
       "      <td>30.0708</td>\n",
       "      <td>None</td>\n",
       "      <td>C</td>\n",
       "    </tr>\n",
       "    <tr>\n",
       "      <th>10</th>\n",
       "      <td>11</td>\n",
       "      <td>1</td>\n",
       "      <td>3</td>\n",
       "      <td>Sandstrom, Miss. Marguerite Rut</td>\n",
       "      <td>female</td>\n",
       "      <td>4.0</td>\n",
       "      <td>1</td>\n",
       "      <td>1</td>\n",
       "      <td>PP 9549</td>\n",
       "      <td>16.7000</td>\n",
       "      <td>G6</td>\n",
       "      <td>S</td>\n",
       "    </tr>\n",
       "    <tr>\n",
       "      <th>11</th>\n",
       "      <td>12</td>\n",
       "      <td>1</td>\n",
       "      <td>1</td>\n",
       "      <td>Bonnell, Miss. Elizabeth</td>\n",
       "      <td>female</td>\n",
       "      <td>58.0</td>\n",
       "      <td>0</td>\n",
       "      <td>0</td>\n",
       "      <td>113783</td>\n",
       "      <td>26.5500</td>\n",
       "      <td>C103</td>\n",
       "      <td>S</td>\n",
       "    </tr>\n",
       "    <tr>\n",
       "      <th>12</th>\n",
       "      <td>13</td>\n",
       "      <td>0</td>\n",
       "      <td>3</td>\n",
       "      <td>Saundercock, Mr. William Henry</td>\n",
       "      <td>male</td>\n",
       "      <td>20.0</td>\n",
       "      <td>0</td>\n",
       "      <td>0</td>\n",
       "      <td>A/5. 2151</td>\n",
       "      <td>8.0500</td>\n",
       "      <td>None</td>\n",
       "      <td>S</td>\n",
       "    </tr>\n",
       "    <tr>\n",
       "      <th>13</th>\n",
       "      <td>14</td>\n",
       "      <td>0</td>\n",
       "      <td>3</td>\n",
       "      <td>Andersson, Mr. Anders Johan</td>\n",
       "      <td>male</td>\n",
       "      <td>39.0</td>\n",
       "      <td>1</td>\n",
       "      <td>5</td>\n",
       "      <td>347082</td>\n",
       "      <td>31.2750</td>\n",
       "      <td>None</td>\n",
       "      <td>S</td>\n",
       "    </tr>\n",
       "    <tr>\n",
       "      <th>14</th>\n",
       "      <td>15</td>\n",
       "      <td>0</td>\n",
       "      <td>3</td>\n",
       "      <td>Vestrom, Miss. Hulda Amanda Adolfina</td>\n",
       "      <td>female</td>\n",
       "      <td>14.0</td>\n",
       "      <td>0</td>\n",
       "      <td>0</td>\n",
       "      <td>350406</td>\n",
       "      <td>7.8542</td>\n",
       "      <td>None</td>\n",
       "      <td>S</td>\n",
       "    </tr>\n",
       "    <tr>\n",
       "      <th>15</th>\n",
       "      <td>16</td>\n",
       "      <td>1</td>\n",
       "      <td>2</td>\n",
       "      <td>Hewlett, Mrs. (Mary D Kingcome)</td>\n",
       "      <td>female</td>\n",
       "      <td>55.0</td>\n",
       "      <td>0</td>\n",
       "      <td>0</td>\n",
       "      <td>248706</td>\n",
       "      <td>16.0000</td>\n",
       "      <td>None</td>\n",
       "      <td>S</td>\n",
       "    </tr>\n",
       "    <tr>\n",
       "      <th>16</th>\n",
       "      <td>17</td>\n",
       "      <td>0</td>\n",
       "      <td>3</td>\n",
       "      <td>Rice, Master. Eugene</td>\n",
       "      <td>male</td>\n",
       "      <td>2.0</td>\n",
       "      <td>4</td>\n",
       "      <td>1</td>\n",
       "      <td>382652</td>\n",
       "      <td>29.1250</td>\n",
       "      <td>None</td>\n",
       "      <td>Q</td>\n",
       "    </tr>\n",
       "    <tr>\n",
       "      <th>17</th>\n",
       "      <td>18</td>\n",
       "      <td>1</td>\n",
       "      <td>2</td>\n",
       "      <td>Williams, Mr. Charles Eugene</td>\n",
       "      <td>male</td>\n",
       "      <td>NaN</td>\n",
       "      <td>0</td>\n",
       "      <td>0</td>\n",
       "      <td>244373</td>\n",
       "      <td>13.0000</td>\n",
       "      <td>None</td>\n",
       "      <td>S</td>\n",
       "    </tr>\n",
       "    <tr>\n",
       "      <th>18</th>\n",
       "      <td>19</td>\n",
       "      <td>0</td>\n",
       "      <td>3</td>\n",
       "      <td>Vander Planke, Mrs. Julius (Emelia Maria Vande...</td>\n",
       "      <td>female</td>\n",
       "      <td>31.0</td>\n",
       "      <td>1</td>\n",
       "      <td>0</td>\n",
       "      <td>345763</td>\n",
       "      <td>18.0000</td>\n",
       "      <td>None</td>\n",
       "      <td>S</td>\n",
       "    </tr>\n",
       "    <tr>\n",
       "      <th>19</th>\n",
       "      <td>20</td>\n",
       "      <td>1</td>\n",
       "      <td>3</td>\n",
       "      <td>Masselmani, Mrs. Fatima</td>\n",
       "      <td>female</td>\n",
       "      <td>NaN</td>\n",
       "      <td>0</td>\n",
       "      <td>0</td>\n",
       "      <td>2649</td>\n",
       "      <td>7.2250</td>\n",
       "      <td>None</td>\n",
       "      <td>C</td>\n",
       "    </tr>\n",
       "  </tbody>\n",
       "</table>\n",
       "</div>"
      ],
      "text/plain": [
       "    PassengerId  Survived  Pclass  \\\n",
       "0             1         0       3   \n",
       "1             2         1       1   \n",
       "2             3         1       3   \n",
       "3             4         1       1   \n",
       "4             5         0       3   \n",
       "5             6         0       3   \n",
       "6             7         0       1   \n",
       "7             8         0       3   \n",
       "8             9         1       3   \n",
       "9            10         1       2   \n",
       "10           11         1       3   \n",
       "11           12         1       1   \n",
       "12           13         0       3   \n",
       "13           14         0       3   \n",
       "14           15         0       3   \n",
       "15           16         1       2   \n",
       "16           17         0       3   \n",
       "17           18         1       2   \n",
       "18           19         0       3   \n",
       "19           20         1       3   \n",
       "\n",
       "                                                 Name     Sex   Age  SibSp  \\\n",
       "0                             Braund, Mr. Owen Harris    male  22.0      1   \n",
       "1   Cumings, Mrs. John Bradley (Florence Briggs Th...  female  38.0      1   \n",
       "2                              Heikkinen, Miss. Laina  female  26.0      0   \n",
       "3        Futrelle, Mrs. Jacques Heath (Lily May Peel)  female  35.0      1   \n",
       "4                            Allen, Mr. William Henry    male  35.0      0   \n",
       "5                                    Moran, Mr. James    male   NaN      0   \n",
       "6                             McCarthy, Mr. Timothy J    male  54.0      0   \n",
       "7                      Palsson, Master. Gosta Leonard    male   2.0      3   \n",
       "8   Johnson, Mrs. Oscar W (Elisabeth Vilhelmina Berg)  female  27.0      0   \n",
       "9                 Nasser, Mrs. Nicholas (Adele Achem)  female  14.0      1   \n",
       "10                    Sandstrom, Miss. Marguerite Rut  female   4.0      1   \n",
       "11                           Bonnell, Miss. Elizabeth  female  58.0      0   \n",
       "12                     Saundercock, Mr. William Henry    male  20.0      0   \n",
       "13                        Andersson, Mr. Anders Johan    male  39.0      1   \n",
       "14               Vestrom, Miss. Hulda Amanda Adolfina  female  14.0      0   \n",
       "15                   Hewlett, Mrs. (Mary D Kingcome)   female  55.0      0   \n",
       "16                               Rice, Master. Eugene    male   2.0      4   \n",
       "17                       Williams, Mr. Charles Eugene    male   NaN      0   \n",
       "18  Vander Planke, Mrs. Julius (Emelia Maria Vande...  female  31.0      1   \n",
       "19                            Masselmani, Mrs. Fatima  female   NaN      0   \n",
       "\n",
       "    Parch            Ticket     Fare Cabin Embarked  \n",
       "0       0         A/5 21171   7.2500  None        S  \n",
       "1       0          PC 17599  71.2833   C85        C  \n",
       "2       0  STON/O2. 3101282   7.9250  None        S  \n",
       "3       0            113803  53.1000  C123        S  \n",
       "4       0            373450   8.0500  None        S  \n",
       "5       0            330877   8.4583  None        Q  \n",
       "6       0             17463  51.8625   E46        S  \n",
       "7       1            349909  21.0750  None        S  \n",
       "8       2            347742  11.1333  None        S  \n",
       "9       0            237736  30.0708  None        C  \n",
       "10      1           PP 9549  16.7000    G6        S  \n",
       "11      0            113783  26.5500  C103        S  \n",
       "12      0         A/5. 2151   8.0500  None        S  \n",
       "13      5            347082  31.2750  None        S  \n",
       "14      0            350406   7.8542  None        S  \n",
       "15      0            248706  16.0000  None        S  \n",
       "16      1            382652  29.1250  None        Q  \n",
       "17      0            244373  13.0000  None        S  \n",
       "18      0            345763  18.0000  None        S  \n",
       "19      0              2649   7.2250  None        C  "
      ]
     },
     "execution_count": 7,
     "metadata": {},
     "output_type": "execute_result"
    }
   ],
   "source": [
    "df.limit(20).toPandas()"
   ]
  },
  {
   "cell_type": "markdown",
   "metadata": {},
   "source": [
    "### Выборки"
   ]
  },
  {
   "cell_type": "code",
   "execution_count": 8,
   "metadata": {},
   "outputs": [
    {
     "name": "stdout",
     "output_type": "stream",
     "text": [
      "+--------+------+----+-------+\n",
      "|Survived|Pclass| Age|   Fare|\n",
      "+--------+------+----+-------+\n",
      "|       0|     3|22.0|   7.25|\n",
      "|       1|     1|38.0|71.2833|\n",
      "|       1|     3|26.0|  7.925|\n",
      "+--------+------+----+-------+\n",
      "only showing top 3 rows\n",
      "\n"
     ]
    }
   ],
   "source": [
    "df.select('Survived', 'Pclass', 'Age', 'Fare').show(3)"
   ]
  },
  {
   "cell_type": "markdown",
   "metadata": {},
   "source": [
    "### Описательная статистика"
   ]
  },
  {
   "cell_type": "code",
   "execution_count": 9,
   "metadata": {},
   "outputs": [
    {
     "name": "stderr",
     "output_type": "stream",
     "text": [
      "24/06/07 17:57:05 WARN SparkStringUtils: Truncated the string representation of a plan since it was too large. This behavior can be adjusted by setting 'spark.sql.debug.maxToStringFields'.\n"
     ]
    },
    {
     "name": "stdout",
     "output_type": "stream",
     "text": [
      "+-------+-------------------+------------------+------------------+-----------------+\n",
      "|summary|           Survived|            Pclass|               Age|             Fare|\n",
      "+-------+-------------------+------------------+------------------+-----------------+\n",
      "|  count|                891|               891|               714|              891|\n",
      "|   mean| 0.3838383838383838| 2.308641975308642| 29.69911764705882| 32.2042079685746|\n",
      "| stddev|0.48659245426485753|0.8360712409770491|14.526497332334035|49.69342859718089|\n",
      "|    min|                  0|                 1|              0.42|              0.0|\n",
      "|    25%|                  0|                 2|              20.0|           7.8958|\n",
      "|    50%|                  0|                 3|              28.0|          14.4542|\n",
      "|    75%|                  1|                 3|              38.0|             31.0|\n",
      "|    max|                  1|                 3|              80.0|         512.3292|\n",
      "+-------+-------------------+------------------+------------------+-----------------+\n",
      "\n"
     ]
    }
   ],
   "source": [
    "df.select('Survived', 'Pclass', 'Age', 'Fare').summary().show()"
   ]
  },
  {
   "cell_type": "code",
   "execution_count": 10,
   "metadata": {},
   "outputs": [
    {
     "name": "stdout",
     "output_type": "stream",
     "text": [
      "Количество записей: \t 891\n",
      "Количество переменных: \t 12\n"
     ]
    }
   ],
   "source": [
    "print('Количество записей: \\t', df.count())\n",
    "print('Количество переменных: \\t', len(df.columns))"
   ]
  },
  {
   "cell_type": "markdown",
   "metadata": {},
   "source": [
    "### EDA "
   ]
  },
  {
   "cell_type": "code",
   "execution_count": 11,
   "metadata": {},
   "outputs": [
    {
     "name": "stdout",
     "output_type": "stream",
     "text": [
      "+--------+-----+\n",
      "|Survived|count|\n",
      "+--------+-----+\n",
      "|       1|  342|\n",
      "|       0|  549|\n",
      "+--------+-----+\n",
      "\n"
     ]
    }
   ],
   "source": [
    "df.groupBy('Survived').count().show()"
   ]
  },
  {
   "cell_type": "markdown",
   "metadata": {},
   "source": [
    "### Количественные характеристики"
   ]
  },
  {
   "cell_type": "code",
   "execution_count": 12,
   "metadata": {},
   "outputs": [
    {
     "name": "stdout",
     "output_type": "stream",
     "text": [
      "+--------+------------------+------------------+\n",
      "|Survived|         avg(Fare)|          avg(Age)|\n",
      "+--------+------------------+------------------+\n",
      "|       1| 48.39540760233917|28.343689655172415|\n",
      "|       0|22.117886885245877| 30.62617924528302|\n",
      "+--------+------------------+------------------+\n",
      "\n"
     ]
    }
   ],
   "source": [
    "df.groupBy('Survived').mean('Fare', 'Age').show()"
   ]
  },
  {
   "cell_type": "markdown",
   "metadata": {},
   "source": [
    "### Факторные переменные"
   ]
  },
  {
   "cell_type": "code",
   "execution_count": 13,
   "metadata": {},
   "outputs": [
    {
     "name": "stdout",
     "output_type": "stream",
     "text": [
      "+--------+------+----+\n",
      "|Survived|female|male|\n",
      "+--------+------+----+\n",
      "|       1|   233| 109|\n",
      "|       0|    81| 468|\n",
      "+--------+------+----+\n",
      "\n"
     ]
    }
   ],
   "source": [
    "df.groupby('Survived').pivot('Sex').count().show()"
   ]
  },
  {
   "cell_type": "code",
   "execution_count": 14,
   "metadata": {},
   "outputs": [
    {
     "name": "stdout",
     "output_type": "stream",
     "text": [
      "+--------+---+---+---+\n",
      "|Survived|  1|  2|  3|\n",
      "+--------+---+---+---+\n",
      "|       1|136| 87|119|\n",
      "|       0| 80| 97|372|\n",
      "+--------+---+---+---+\n",
      "\n"
     ]
    }
   ],
   "source": [
    "df.groupby('Survived').pivot('Pclass').count().show()"
   ]
  },
  {
   "cell_type": "code",
   "execution_count": 15,
   "metadata": {},
   "outputs": [
    {
     "name": "stdout",
     "output_type": "stream",
     "text": [
      "+--------+---+---+---+---+---+----+----+\n",
      "|Survived|  0|  1|  2|  3|  4|   5|   8|\n",
      "+--------+---+---+---+---+---+----+----+\n",
      "|       1|210|112| 13|  4|  3|NULL|NULL|\n",
      "|       0|398| 97| 15| 12| 15|   5|   7|\n",
      "+--------+---+---+---+---+---+----+----+\n",
      "\n"
     ]
    }
   ],
   "source": [
    "df.groupby('Survived').pivot('SibSp').count().show()"
   ]
  },
  {
   "cell_type": "markdown",
   "metadata": {},
   "source": [
    "### Извлечение признаков"
   ]
  },
  {
   "cell_type": "code",
   "execution_count": 16,
   "metadata": {},
   "outputs": [
    {
     "name": "stdout",
     "output_type": "stream",
     "text": [
      "PassengerId          0\n",
      "Survived             0\n",
      "Pclass               0\n",
      "Name                 0\n",
      "Sex                  0\n",
      "Age                  177\n",
      "SibSp                0\n",
      "Parch                0\n",
      "Ticket               0\n",
      "Fare                 0\n",
      "Cabin                687\n",
      "Embarked             2\n"
     ]
    }
   ],
   "source": [
    "for col in df.columns:\n",
    "    print(col.ljust(20), df.filter(df[col].isNull()).count())"
   ]
  },
  {
   "cell_type": "code",
   "execution_count": 17,
   "metadata": {},
   "outputs": [
    {
     "name": "stdout",
     "output_type": "stream",
     "text": [
      "+-------+----------------+--------+\n",
      "|summary|            Fare|Embarked|\n",
      "+-------+----------------+--------+\n",
      "|   mean|32.2042079685746|    NULL|\n",
      "|    50%|         14.4542|    NULL|\n",
      "|    max|        512.3292|       S|\n",
      "+-------+----------------+--------+\n",
      "\n"
     ]
    }
   ],
   "source": [
    "df.select('Fare', 'Embarked').summary('mean', '50%', 'max').show()"
   ]
  },
  {
   "cell_type": "markdown",
   "metadata": {},
   "source": [
    "### Извлечение данных о титулах"
   ]
  },
  {
   "cell_type": "code",
   "execution_count": 18,
   "metadata": {},
   "outputs": [
    {
     "name": "stdout",
     "output_type": "stream",
     "text": [
      "+--------+----------+------------------+\n",
      "|   Title|count(Age)|          avg(Age)|\n",
      "+--------+----------+------------------+\n",
      "|     Don|         1|              40.0|\n",
      "|Countess|         1|              33.0|\n",
      "|    Lady|         1|              48.0|\n",
      "|     Mme|         1|              24.0|\n",
      "|    Capt|         1|              70.0|\n",
      "|     Sir|         1|              49.0|\n",
      "|Jonkheer|         1|              38.0|\n",
      "|      Ms|         1|              28.0|\n",
      "|     Col|         2|              58.0|\n",
      "|    Mlle|         2|              24.0|\n",
      "|   Major|         2|              48.5|\n",
      "|     Rev|         6|43.166666666666664|\n",
      "|      Dr|         6|              42.0|\n",
      "|  Master|        36| 4.574166666666667|\n",
      "|     Mrs|       108|35.898148148148145|\n",
      "|    Miss|       146|21.773972602739725|\n",
      "|      Mr|       398|32.368090452261306|\n",
      "+--------+----------+------------------+\n",
      "\n"
     ]
    }
   ],
   "source": [
    "df = df.withColumn('Title', regexp_extract(df['Name'], '([A-Za-z]+)\\.', 1))\n",
    "df.groupBy('Title').agg(count('Age'), mean('Age')).sort('count(Age)').show()"
   ]
  },
  {
   "cell_type": "code",
   "execution_count": 19,
   "metadata": {},
   "outputs": [],
   "source": [
    "title_dic = {'Mr':'Mr', 'Miss':'Miss', 'Mrs':'Mrs', 'Master':'Master', \\\n",
    "             'Mlle': 'Miss', 'Major': 'Mr', 'Col': 'Mr', 'Sir': 'Mr',\\\n",
    "             'Don': 'Mr', 'Mme': 'Miss', 'Jonkheer': 'Mr', 'Lady': 'Mrs',\\\n",
    "             'Capt': 'Mr', 'Countess': 'Mrs', 'Ms': 'Miss', 'Dona': 'Mrs', \\\n",
    "             'Dr':'Mr', 'Rev':'Mr'}"
   ]
  },
  {
   "cell_type": "code",
   "execution_count": 20,
   "metadata": {},
   "outputs": [],
   "source": [
    "mapping = create_map([lit(x) for x in chain(*title_dic.items())])"
   ]
  },
  {
   "cell_type": "code",
   "execution_count": 21,
   "metadata": {},
   "outputs": [
    {
     "name": "stdout",
     "output_type": "stream",
     "text": [
      "+------+------------------+\n",
      "| Title|          avg(Age)|\n",
      "+------+------------------+\n",
      "|  Miss|             21.86|\n",
      "|Master| 4.574166666666667|\n",
      "|    Mr| 33.02272727272727|\n",
      "|   Mrs|35.981818181818184|\n",
      "+------+------------------+\n",
      "\n"
     ]
    }
   ],
   "source": [
    "df = df.withColumn('Title', mapping[df['Title']])\n",
    "df.groupby('Title').mean('Age').show()"
   ]
  },
  {
   "cell_type": "markdown",
   "metadata": {},
   "source": [
    "### Извлечение сведений по возрасту"
   ]
  },
  {
   "cell_type": "code",
   "execution_count": 22,
   "metadata": {},
   "outputs": [],
   "source": [
    "def age_imputer(df, title, age):\n",
    "    return df.withColumn('Age', when((df['Age'].isNull()) & (df['Title']==title), age).otherwise(df['Age']))\n"
   ]
  },
  {
   "cell_type": "code",
   "execution_count": 23,
   "metadata": {},
   "outputs": [],
   "source": [
    "df = age_imputer(df, 'Mr', 33.02)\n",
    "df = age_imputer(df, 'Mrs', 35.98)\n",
    "df = age_imputer(df, 'Miss', 21.86)\n",
    "df = age_imputer(df, 'Master', 4.57)"
   ]
  },
  {
   "cell_type": "markdown",
   "metadata": {},
   "source": [
    "### Добаввление агрегирующих данных м удаление не используемых"
   ]
  },
  {
   "cell_type": "code",
   "execution_count": 24,
   "metadata": {},
   "outputs": [],
   "source": [
    "df = df.withColumn('FamilySize', df['Parch'] + df['SibSp']).drop('Parch', 'SibSp')"
   ]
  },
  {
   "cell_type": "code",
   "execution_count": 25,
   "metadata": {},
   "outputs": [],
   "source": [
    "df = df.drop('PassengerID', 'Cabin', 'Name', 'Ticket', 'Title')"
   ]
  },
  {
   "cell_type": "code",
   "execution_count": 26,
   "metadata": {},
   "outputs": [
    {
     "name": "stdout",
     "output_type": "stream",
     "text": [
      "+--------+------+------+-----+-------+--------+----------+\n",
      "|Survived|Pclass|   Sex|  Age|   Fare|Embarked|FamilySize|\n",
      "+--------+------+------+-----+-------+--------+----------+\n",
      "|       0|     3|  male| 22.0|   7.25|       S|         1|\n",
      "|       1|     1|female| 38.0|71.2833|       C|         1|\n",
      "|       1|     3|female| 26.0|  7.925|       S|         0|\n",
      "|       1|     1|female| 35.0|   53.1|       S|         1|\n",
      "|       0|     3|  male| 35.0|   8.05|       S|         0|\n",
      "|       0|     3|  male|33.02| 8.4583|       Q|         0|\n",
      "|       0|     1|  male| 54.0|51.8625|       S|         0|\n",
      "|       0|     3|  male|  2.0| 21.075|       S|         4|\n",
      "|       1|     3|female| 27.0|11.1333|       S|         2|\n",
      "|       1|     2|female| 14.0|30.0708|       C|         1|\n",
      "|       1|     3|female|  4.0|   16.7|       S|         2|\n",
      "|       1|     1|female| 58.0|  26.55|       S|         0|\n",
      "|       0|     3|  male| 20.0|   8.05|       S|         0|\n",
      "|       0|     3|  male| 39.0| 31.275|       S|         6|\n",
      "|       0|     3|female| 14.0| 7.8542|       S|         0|\n",
      "|       1|     2|female| 55.0|   16.0|       S|         0|\n",
      "|       0|     3|  male|  2.0| 29.125|       Q|         5|\n",
      "|       1|     2|  male|33.02|   13.0|       S|         0|\n",
      "|       0|     3|female| 31.0|   18.0|       S|         1|\n",
      "|       1|     3|female|35.98|  7.225|       C|         0|\n",
      "+--------+------+------+-----+-------+--------+----------+\n",
      "only showing top 20 rows\n",
      "\n"
     ]
    }
   ],
   "source": [
    "df.show()"
   ]
  },
  {
   "cell_type": "code",
   "execution_count": 27,
   "metadata": {},
   "outputs": [],
   "source": [
    "df = df.fillna({'Embarked' : 'S'})"
   ]
  },
  {
   "cell_type": "code",
   "execution_count": 28,
   "metadata": {},
   "outputs": [
    {
     "name": "stdout",
     "output_type": "stream",
     "text": [
      "Survived             0\n",
      "Pclass               0\n",
      "Sex                  0\n",
      "Age                  0\n",
      "Fare                 0\n",
      "Embarked             0\n",
      "FamilySize           0\n"
     ]
    }
   ],
   "source": [
    "for col in df.columns:\n",
    "    print(col.ljust(20), df.filter(df[col].isNull()).count())"
   ]
  },
  {
   "cell_type": "markdown",
   "metadata": {},
   "source": [
    "### Построение модели (Spark ML)"
   ]
  },
  {
   "cell_type": "markdown",
   "metadata": {},
   "source": [
    "- StringIndexer: преобразование строковых категорий в численные\n",
    "- Векторный Ассемблер: Spark API\n",
    "- Логистическая регрессия на основе регуляризации Ridge, Lasso\n",
    "- Древовидные ансамблевые методы: случайный лес, градиентный спуск\n",
    "- Конвейер"
   ]
  },
  {
   "cell_type": "markdown",
   "metadata": {},
   "source": [
    "### Подключение библиотек из Spark ML"
   ]
  },
  {
   "cell_type": "code",
   "execution_count": 30,
   "metadata": {},
   "outputs": [],
   "source": [
    "from pyspark.ml.feature import StringIndexer, VectorAssembler\n",
    "from pyspark.ml.classification import LogisticRegression, RandomForestClassifier, GBTClassifier\n",
    "from pyspark.ml.evaluation import MulticlassClassificationEvaluator\n",
    "from pyspark.ml import Pipeline\n",
    "from pyspark.ml.tuning import CrossValidator, ParamGridBuilder"
   ]
  },
  {
   "cell_type": "markdown",
   "metadata": {},
   "source": [
    "### String Indexer"
   ]
  },
  {
   "cell_type": "code",
   "execution_count": 31,
   "metadata": {},
   "outputs": [
    {
     "name": "stdout",
     "output_type": "stream",
     "text": [
      "+--------+------+----+-------+----------+------+------+\n",
      "|Survived|Pclass| Age|   Fare|FamilySize|SexNum|EmbNum|\n",
      "+--------+------+----+-------+----------+------+------+\n",
      "|       0|     3|22.0|   7.25|         1|   0.0|   0.0|\n",
      "|       1|     1|38.0|71.2833|         1|   1.0|   1.0|\n",
      "|       1|     3|26.0|  7.925|         0|   1.0|   0.0|\n",
      "+--------+------+----+-------+----------+------+------+\n",
      "only showing top 3 rows\n",
      "\n"
     ]
    }
   ],
   "source": [
    "stringIndex = StringIndexer(inputCols=['Sex', 'Embarked'], outputCols=['SexNum', 'EmbNum'])\n",
    "stringIndex_model = stringIndex.fit(df)\n",
    "df_ = stringIndex_model.transform(df).drop('Sex', 'Embarked')\n",
    "df_.show(3)"
   ]
  },
  {
   "cell_type": "markdown",
   "metadata": {},
   "source": [
    "### Векторный Ассемблер"
   ]
  },
  {
   "cell_type": "code",
   "execution_count": 32,
   "metadata": {},
   "outputs": [
    {
     "name": "stdout",
     "output_type": "stream",
     "text": [
      "+------------------------------+--------+\n",
      "|features                      |Survived|\n",
      "+------------------------------+--------+\n",
      "|[3.0,22.0,7.25,1.0,0.0,0.0]   |0       |\n",
      "|[1.0,38.0,71.2833,1.0,1.0,1.0]|1       |\n",
      "|[3.0,26.0,7.925,0.0,1.0,0.0]  |1       |\n",
      "+------------------------------+--------+\n",
      "only showing top 3 rows\n",
      "\n"
     ]
    }
   ],
   "source": [
    "vec_asmbl = VectorAssembler(inputCols=df_.columns[1:], outputCol='features')\n",
    "df_ = vec_asmbl.transform(df_).select('features', 'Survived')\n",
    "df_.show(3, truncate=False)"
   ]
  },
  {
   "cell_type": "markdown",
   "metadata": {},
   "source": [
    "### Разбивка данных"
   ]
  },
  {
   "cell_type": "code",
   "execution_count": 33,
   "metadata": {},
   "outputs": [
    {
     "name": "stdout",
     "output_type": "stream",
     "text": [
      "+---------------------+--------+\n",
      "|features             |Survived|\n",
      "+---------------------+--------+\n",
      "|(6,[0,1],[1.0,33.02])|0       |\n",
      "|(6,[0,1],[1.0,38.0]) |0       |\n",
      "|(6,[0,1],[1.0,39.0]) |0       |\n",
      "+---------------------+--------+\n",
      "only showing top 3 rows\n",
      "\n"
     ]
    }
   ],
   "source": [
    "train_df, valid_df = df_.randomSplit([0.7, 0.3])\n",
    "train_df.show(3, truncate=False)"
   ]
  },
  {
   "cell_type": "markdown",
   "metadata": {},
   "source": [
    "### Вычисления и метрики"
   ]
  },
  {
   "cell_type": "code",
   "execution_count": 34,
   "metadata": {},
   "outputs": [],
   "source": [
    "evalutor = MulticlassClassificationEvaluator(labelCol='Survived', metricName='accuracy')"
   ]
  },
  {
   "cell_type": "markdown",
   "metadata": {},
   "source": [
    "### Логистическая регрессия"
   ]
  },
  {
   "cell_type": "code",
   "execution_count": 35,
   "metadata": {},
   "outputs": [
    {
     "name": "stderr",
     "output_type": "stream",
     "text": [
      "24/06/07 19:24:57 WARN InstanceBuilder: Failed to load implementation from:dev.ludovic.netlib.blas.JNIBLAS\n"
     ]
    },
    {
     "data": {
      "text/plain": [
       "0.825"
      ]
     },
     "execution_count": 35,
     "metadata": {},
     "output_type": "execute_result"
    }
   ],
   "source": [
    "reg = LogisticRegression(labelCol='Survived', maxIter=100, elasticNetParam=0, regParam=0.3)\n",
    "model = reg.fit(train_df)\n",
    "pred = model.transform(valid_df)\n",
    "evalutor.evaluate(pred)"
   ]
  },
  {
   "cell_type": "markdown",
   "metadata": {},
   "source": [
    "### Случайный лес"
   ]
  },
  {
   "cell_type": "code",
   "execution_count": 36,
   "metadata": {},
   "outputs": [
    {
     "data": {
      "text/plain": [
       "0.7857142857142857"
      ]
     },
     "execution_count": 36,
     "metadata": {},
     "output_type": "execute_result"
    }
   ],
   "source": [
    "rf = RandomForestClassifier(labelCol='Survived', numTrees=100, maxDepth=2)\n",
    "model = rf.fit(train_df)\n",
    "pred = model.transform(valid_df)\n",
    "evalutor.evaluate(pred)"
   ]
  },
  {
   "cell_type": "markdown",
   "metadata": {},
   "source": [
    "### GBT"
   ]
  },
  {
   "cell_type": "code",
   "execution_count": 37,
   "metadata": {},
   "outputs": [
    {
     "data": {
      "text/plain": [
       "0.8357142857142857"
      ]
     },
     "execution_count": 37,
     "metadata": {},
     "output_type": "execute_result"
    }
   ],
   "source": [
    "gb = GBTClassifier(labelCol='Survived', maxIter=100, maxDepth=2)\n",
    "model = gb.fit(train_df)\n",
    "pred = model.transform(valid_df)\n",
    "evalutor.evaluate(pred)"
   ]
  },
  {
   "cell_type": "markdown",
   "metadata": {},
   "source": [
    "### Настройка модели"
   ]
  },
  {
   "cell_type": "code",
   "execution_count": 41,
   "metadata": {},
   "outputs": [
    {
     "name": "stderr",
     "output_type": "stream",
     "text": [
      "24/06/07 19:35:32 WARN DAGScheduler: Broadcasting large task binary with size 1281.4 KiB\n",
      "24/06/07 19:35:34 WARN DAGScheduler: Broadcasting large task binary with size 1280.9 KiB\n",
      "24/06/07 19:35:35 WARN DAGScheduler: Broadcasting large task binary with size 1171.7 KiB\n",
      "24/06/07 19:35:37 WARN DAGScheduler: Broadcasting large task binary with size 1485.8 KiB\n",
      "24/06/07 19:35:39 WARN DAGScheduler: Broadcasting large task binary with size 1470.6 KiB\n",
      "24/06/07 19:35:40 WARN DAGScheduler: Broadcasting large task binary with size 1172.9 KiB\n",
      "24/06/07 19:35:42 WARN DAGScheduler: Broadcasting large task binary with size 1130.1 KiB\n",
      "24/06/07 19:35:42 WARN DAGScheduler: Broadcasting large task binary with size 1794.1 KiB\n",
      "24/06/07 19:35:44 WARN DAGScheduler: Broadcasting large task binary with size 1005.7 KiB\n",
      "24/06/07 19:35:44 WARN DAGScheduler: Broadcasting large task binary with size 1732.0 KiB\n",
      "24/06/07 19:35:46 WARN DAGScheduler: Broadcasting large task binary with size 1172.9 KiB\n",
      "24/06/07 19:35:48 WARN DAGScheduler: Broadcasting large task binary with size 1130.1 KiB\n",
      "24/06/07 19:35:48 WARN DAGScheduler: Broadcasting large task binary with size 2015.5 KiB\n",
      "24/06/07 19:35:49 WARN DAGScheduler: Broadcasting large task binary with size 2.3 MiB\n",
      "24/06/07 19:35:51 WARN DAGScheduler: Broadcasting large task binary with size 1005.7 KiB\n",
      "24/06/07 19:35:51 WARN DAGScheduler: Broadcasting large task binary with size 1554.0 KiB\n",
      "24/06/07 19:35:51 WARN DAGScheduler: Broadcasting large task binary with size 2.0 MiB\n",
      "24/06/07 19:35:53 WARN DAGScheduler: Broadcasting large task binary with size 1172.9 KiB\n",
      "24/06/07 19:35:54 WARN DAGScheduler: Broadcasting large task binary with size 1278.3 KiB\n",
      "24/06/07 19:35:56 WARN DAGScheduler: Broadcasting large task binary with size 1278.2 KiB\n",
      "24/06/07 19:35:57 WARN DAGScheduler: Broadcasting large task binary with size 1167.4 KiB\n",
      "24/06/07 19:35:58 WARN DAGScheduler: Broadcasting large task binary with size 1490.2 KiB\n",
      "24/06/07 19:36:00 WARN DAGScheduler: Broadcasting large task binary with size 1472.5 KiB\n",
      "24/06/07 19:36:01 WARN DAGScheduler: Broadcasting large task binary with size 1167.7 KiB\n",
      "24/06/07 19:36:03 WARN DAGScheduler: Broadcasting large task binary with size 1125.2 KiB\n",
      "24/06/07 19:36:03 WARN DAGScheduler: Broadcasting large task binary with size 1807.4 KiB\n",
      "24/06/07 19:36:05 WARN DAGScheduler: Broadcasting large task binary with size 1729.7 KiB\n",
      "24/06/07 19:36:06 WARN DAGScheduler: Broadcasting large task binary with size 1167.7 KiB\n",
      "24/06/07 19:36:08 WARN DAGScheduler: Broadcasting large task binary with size 1125.2 KiB\n",
      "24/06/07 19:36:08 WARN DAGScheduler: Broadcasting large task binary with size 1995.8 KiB\n",
      "24/06/07 19:36:09 WARN DAGScheduler: Broadcasting large task binary with size 2.3 MiB\n",
      "24/06/07 19:36:11 WARN DAGScheduler: Broadcasting large task binary with size 1535.4 KiB\n",
      "24/06/07 19:36:11 WARN DAGScheduler: Broadcasting large task binary with size 2.0 MiB\n",
      "24/06/07 19:36:12 WARN DAGScheduler: Broadcasting large task binary with size 1167.7 KiB\n",
      "24/06/07 19:36:13 WARN DAGScheduler: Broadcasting large task binary with size 1278.4 KiB\n",
      "24/06/07 19:36:15 WARN DAGScheduler: Broadcasting large task binary with size 1273.8 KiB\n",
      "24/06/07 19:36:16 WARN DAGScheduler: Broadcasting large task binary with size 1170.2 KiB\n",
      "24/06/07 19:36:17 WARN DAGScheduler: Broadcasting large task binary with size 1481.0 KiB\n",
      "24/06/07 19:36:19 WARN DAGScheduler: Broadcasting large task binary with size 1465.2 KiB\n",
      "24/06/07 19:36:20 WARN DAGScheduler: Broadcasting large task binary with size 1170.9 KiB\n",
      "24/06/07 19:36:21 WARN DAGScheduler: Broadcasting large task binary with size 1116.9 KiB\n",
      "24/06/07 19:36:21 WARN DAGScheduler: Broadcasting large task binary with size 1760.4 KiB\n",
      "24/06/07 19:36:23 WARN DAGScheduler: Broadcasting large task binary with size 1694.5 KiB\n",
      "24/06/07 19:36:24 WARN DAGScheduler: Broadcasting large task binary with size 1171.0 KiB\n",
      "24/06/07 19:36:26 WARN DAGScheduler: Broadcasting large task binary with size 1116.9 KiB\n",
      "24/06/07 19:36:26 WARN DAGScheduler: Broadcasting large task binary with size 1959.1 KiB\n",
      "24/06/07 19:36:27 WARN DAGScheduler: Broadcasting large task binary with size 2.2 MiB\n",
      "24/06/07 19:36:28 WARN DAGScheduler: Broadcasting large task binary with size 1454.7 KiB\n",
      "24/06/07 19:36:29 WARN DAGScheduler: Broadcasting large task binary with size 1980.7 KiB\n",
      "24/06/07 19:36:30 WARN DAGScheduler: Broadcasting large task binary with size 1171.0 KiB\n",
      "24/06/07 19:36:31 WARN DAGScheduler: Broadcasting large task binary with size 1284.5 KiB\n",
      "24/06/07 19:36:32 WARN DAGScheduler: Broadcasting large task binary with size 1284.3 KiB\n",
      "24/06/07 19:36:33 WARN DAGScheduler: Broadcasting large task binary with size 1173.1 KiB\n",
      "24/06/07 19:36:35 WARN DAGScheduler: Broadcasting large task binary with size 1487.8 KiB\n",
      "24/06/07 19:36:36 WARN DAGScheduler: Broadcasting large task binary with size 1470.0 KiB\n",
      "24/06/07 19:36:38 WARN DAGScheduler: Broadcasting large task binary with size 1174.9 KiB\n",
      "24/06/07 19:36:39 WARN DAGScheduler: Broadcasting large task binary with size 1125.2 KiB\n",
      "24/06/07 19:36:40 WARN DAGScheduler: Broadcasting large task binary with size 1795.4 KiB\n",
      "24/06/07 19:36:41 WARN DAGScheduler: Broadcasting large task binary with size 1006.7 KiB\n",
      "24/06/07 19:36:41 WARN DAGScheduler: Broadcasting large task binary with size 1731.8 KiB\n",
      "24/06/07 19:36:42 WARN DAGScheduler: Broadcasting large task binary with size 1175.3 KiB\n",
      "24/06/07 19:36:44 WARN DAGScheduler: Broadcasting large task binary with size 1125.2 KiB\n",
      "24/06/07 19:36:44 WARN DAGScheduler: Broadcasting large task binary with size 1983.0 KiB\n",
      "24/06/07 19:36:45 WARN DAGScheduler: Broadcasting large task binary with size 2.2 MiB\n",
      "24/06/07 19:36:46 WARN DAGScheduler: Broadcasting large task binary with size 1006.7 KiB\n",
      "24/06/07 19:36:47 WARN DAGScheduler: Broadcasting large task binary with size 1540.6 KiB\n",
      "24/06/07 19:36:47 WARN DAGScheduler: Broadcasting large task binary with size 2047.1 KiB\n",
      "24/06/07 19:36:48 WARN DAGScheduler: Broadcasting large task binary with size 1175.3 KiB\n",
      "24/06/07 19:36:49 WARN DAGScheduler: Broadcasting large task binary with size 1286.2 KiB\n",
      "24/06/07 19:36:50 WARN DAGScheduler: Broadcasting large task binary with size 1285.9 KiB\n",
      "24/06/07 19:36:52 WARN DAGScheduler: Broadcasting large task binary with size 1172.0 KiB\n",
      "24/06/07 19:36:53 WARN DAGScheduler: Broadcasting large task binary with size 1494.0 KiB\n",
      "24/06/07 19:36:54 WARN DAGScheduler: Broadcasting large task binary with size 1480.5 KiB\n",
      "24/06/07 19:36:55 WARN DAGScheduler: Broadcasting large task binary with size 1175.7 KiB\n",
      "24/06/07 19:36:57 WARN DAGScheduler: Broadcasting large task binary with size 1116.6 KiB\n",
      "24/06/07 19:36:57 WARN DAGScheduler: Broadcasting large task binary with size 1774.4 KiB\n",
      "24/06/07 19:36:59 WARN DAGScheduler: Broadcasting large task binary with size 1692.3 KiB\n",
      "24/06/07 19:37:00 WARN DAGScheduler: Broadcasting large task binary with size 1175.7 KiB\n",
      "24/06/07 19:37:01 WARN DAGScheduler: Broadcasting large task binary with size 1116.6 KiB\n",
      "24/06/07 19:37:02 WARN DAGScheduler: Broadcasting large task binary with size 1923.5 KiB\n",
      "24/06/07 19:37:02 WARN DAGScheduler: Broadcasting large task binary with size 2.2 MiB\n",
      "24/06/07 19:37:04 WARN DAGScheduler: Broadcasting large task binary with size 1450.8 KiB\n",
      "24/06/07 19:37:04 WARN DAGScheduler: Broadcasting large task binary with size 1963.0 KiB\n",
      "24/06/07 19:37:05 WARN DAGScheduler: Broadcasting large task binary with size 1175.7 KiB\n"
     ]
    },
    {
     "ename": "AttributeError",
     "evalue": "'MulticlassClassificationEvaluator' object has no attribute 'evalute'",
     "output_type": "error",
     "traceback": [
      "\u001b[0;31m---------------------------------------------------------------------------\u001b[0m",
      "\u001b[0;31mAttributeError\u001b[0m                            Traceback (most recent call last)",
      "Cell \u001b[0;32mIn[41], line 11\u001b[0m\n\u001b[1;32m      7\u001b[0m model_final \u001b[38;5;241m=\u001b[39m selected_model\u001b[38;5;241m.\u001b[39mfit(df)\n\u001b[1;32m      9\u001b[0m pred_train \u001b[38;5;241m=\u001b[39m model_final\u001b[38;5;241m.\u001b[39mtransform(df)\n\u001b[0;32m---> 11\u001b[0m evalutor\u001b[38;5;241m.\u001b[39mevalute(pred_train)\n",
      "\u001b[0;31mAttributeError\u001b[0m: 'MulticlassClassificationEvaluator' object has no attribute 'evalute'"
     ]
    }
   ],
   "source": [
    "pipeline_rf = Pipeline(stages=[stringIndex, vec_asmbl, rf])\n",
    "\n",
    "paramGrid = ParamGridBuilder().addGrid(rf.maxDepth, [2,3,4,5]).addGrid(rf.minInfoGain, [0,0.01, 0.1]).addGrid(rf.numTrees, [50, 100, 500]).build()\n",
    "\n",
    "selected_model = CrossValidator(estimator=pipeline_rf, estimatorParamMaps=paramGrid, evaluator=evalutor, numFolds=5)\n",
    "\n",
    "model_final = selected_model.fit(df)\n",
    "\n",
    "pred_train = model_final.transform(df)\n",
    "\n"
   ]
  },
  {
   "cell_type": "code",
   "execution_count": 42,
   "metadata": {},
   "outputs": [
    {
     "data": {
      "text/plain": [
       "0.8439955106621774"
      ]
     },
     "execution_count": 42,
     "metadata": {},
     "output_type": "execute_result"
    }
   ],
   "source": [
    "evalutor.evaluate(pred_train)"
   ]
  }
 ],
 "metadata": {
  "kernelspec": {
   "display_name": "base",
   "language": "python",
   "name": "python3"
  },
  "language_info": {
   "codemirror_mode": {
    "name": "ipython",
    "version": 3
   },
   "file_extension": ".py",
   "mimetype": "text/x-python",
   "name": "python",
   "nbconvert_exporter": "python",
   "pygments_lexer": "ipython3",
   "version": "3.11.5"
  }
 },
 "nbformat": 4,
 "nbformat_minor": 2
}
